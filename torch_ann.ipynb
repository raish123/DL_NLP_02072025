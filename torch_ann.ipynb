{
 "cells": [
  {
   "cell_type": "code",
   "execution_count": 1,
   "id": "b9fadd0f",
   "metadata": {},
   "outputs": [],
   "source": [
    "#importing all the module which is used in this project\n",
    "import pandas as pd\n",
    "import numpy as np\n",
    "import torch #this library we used to do tensor based calculation\n",
    "import sklearn\n",
    "from sklearn.model_selection import train_test_split\n",
    "import torch.nn as nn\n",
    "from torch.utils.data import DataLoader,Dataset"
   ]
  },
  {
   "cell_type": "code",
   "execution_count": 2,
   "id": "897593be",
   "metadata": {},
   "outputs": [
    {
     "data": {
      "text/html": [
       "<div>\n",
       "<style scoped>\n",
       "    .dataframe tbody tr th:only-of-type {\n",
       "        vertical-align: middle;\n",
       "    }\n",
       "\n",
       "    .dataframe tbody tr th {\n",
       "        vertical-align: top;\n",
       "    }\n",
       "\n",
       "    .dataframe thead th {\n",
       "        text-align: right;\n",
       "    }\n",
       "</style>\n",
       "<table border=\"1\" class=\"dataframe\">\n",
       "  <thead>\n",
       "    <tr style=\"text-align: right;\">\n",
       "      <th></th>\n",
       "      <th>Pregnancies</th>\n",
       "      <th>Glucose</th>\n",
       "      <th>BloodPressure</th>\n",
       "      <th>SkinThickness</th>\n",
       "      <th>Insulin</th>\n",
       "      <th>BMI</th>\n",
       "      <th>DiabetesPedigreeFunction</th>\n",
       "      <th>Age</th>\n",
       "      <th>Outcome</th>\n",
       "    </tr>\n",
       "  </thead>\n",
       "  <tbody>\n",
       "    <tr>\n",
       "      <th>0</th>\n",
       "      <td>2</td>\n",
       "      <td>138</td>\n",
       "      <td>62</td>\n",
       "      <td>35</td>\n",
       "      <td>0</td>\n",
       "      <td>33.6</td>\n",
       "      <td>0.127</td>\n",
       "      <td>47</td>\n",
       "      <td>1</td>\n",
       "    </tr>\n",
       "    <tr>\n",
       "      <th>1</th>\n",
       "      <td>0</td>\n",
       "      <td>84</td>\n",
       "      <td>82</td>\n",
       "      <td>31</td>\n",
       "      <td>125</td>\n",
       "      <td>38.2</td>\n",
       "      <td>0.233</td>\n",
       "      <td>23</td>\n",
       "      <td>0</td>\n",
       "    </tr>\n",
       "    <tr>\n",
       "      <th>2</th>\n",
       "      <td>0</td>\n",
       "      <td>145</td>\n",
       "      <td>0</td>\n",
       "      <td>0</td>\n",
       "      <td>0</td>\n",
       "      <td>44.2</td>\n",
       "      <td>0.630</td>\n",
       "      <td>31</td>\n",
       "      <td>1</td>\n",
       "    </tr>\n",
       "    <tr>\n",
       "      <th>3</th>\n",
       "      <td>0</td>\n",
       "      <td>135</td>\n",
       "      <td>68</td>\n",
       "      <td>42</td>\n",
       "      <td>250</td>\n",
       "      <td>42.3</td>\n",
       "      <td>0.365</td>\n",
       "      <td>24</td>\n",
       "      <td>1</td>\n",
       "    </tr>\n",
       "    <tr>\n",
       "      <th>4</th>\n",
       "      <td>1</td>\n",
       "      <td>139</td>\n",
       "      <td>62</td>\n",
       "      <td>41</td>\n",
       "      <td>480</td>\n",
       "      <td>40.7</td>\n",
       "      <td>0.536</td>\n",
       "      <td>21</td>\n",
       "      <td>0</td>\n",
       "    </tr>\n",
       "  </tbody>\n",
       "</table>\n",
       "</div>"
      ],
      "text/plain": [
       "   Pregnancies  Glucose  BloodPressure  SkinThickness  Insulin   BMI  \\\n",
       "0            2      138             62             35        0  33.6   \n",
       "1            0       84             82             31      125  38.2   \n",
       "2            0      145              0              0        0  44.2   \n",
       "3            0      135             68             42      250  42.3   \n",
       "4            1      139             62             41      480  40.7   \n",
       "\n",
       "   DiabetesPedigreeFunction  Age  Outcome  \n",
       "0                     0.127   47        1  \n",
       "1                     0.233   23        0  \n",
       "2                     0.630   31        1  \n",
       "3                     0.365   24        1  \n",
       "4                     0.536   21        0  "
      ]
     },
     "execution_count": 2,
     "metadata": {},
     "output_type": "execute_result"
    }
   ],
   "source": [
    "#now loading the data\n",
    "data = pd.read_csv('kaggle_diabetes.csv')\n",
    "data.head()"
   ]
  },
  {
   "cell_type": "code",
   "execution_count": 3,
   "id": "3635a17a",
   "metadata": {},
   "outputs": [],
   "source": [
    "#selecting input and output variable\n",
    "x = data.drop('Outcome',axis=1)\n",
    "y = data['Outcome']"
   ]
  },
  {
   "cell_type": "code",
   "execution_count": 4,
   "id": "a4699aea",
   "metadata": {},
   "outputs": [
    {
     "data": {
      "text/plain": [
       "((2000, 8), 2, (2000,), 1)"
      ]
     },
     "execution_count": 4,
     "metadata": {},
     "output_type": "execute_result"
    }
   ],
   "source": [
    "#if i want  to check the shape and type of input and output variable\n",
    "x.shape,x.ndim,y.shape,y.ndim"
   ]
  },
  {
   "cell_type": "code",
   "execution_count": 5,
   "id": "b75cc0c6",
   "metadata": {},
   "outputs": [
    {
     "data": {
      "text/plain": [
       "Outcome\n",
       "0    1316\n",
       "1     684\n",
       "Name: count, dtype: int64"
      ]
     },
     "execution_count": 5,
     "metadata": {},
     "output_type": "execute_result"
    }
   ],
   "source": [
    "#checking the output variable are balanced or imbalanced\n",
    "data.Outcome.value_counts()"
   ]
  },
  {
   "cell_type": "code",
   "execution_count": 6,
   "id": "7af2ab65",
   "metadata": {},
   "outputs": [],
   "source": [
    "#splitting the data into 80:20 ratio\n",
    "x_train,x_test,y_train,y_test = train_test_split(x,y,test_size=0.2,random_state=42,stratify=y)"
   ]
  },
  {
   "cell_type": "code",
   "execution_count": 7,
   "id": "f9727fbc",
   "metadata": {},
   "outputs": [
    {
     "data": {
      "text/plain": [
       "((1600, 8), (400, 8), (1600,), (400,))"
      ]
     },
     "execution_count": 7,
     "metadata": {},
     "output_type": "execute_result"
    }
   ],
   "source": [
    "x_train.shape,x_test.shape,y_train.shape,y_test.shape"
   ]
  },
  {
   "cell_type": "code",
   "execution_count": 8,
   "id": "3267a5fb",
   "metadata": {},
   "outputs": [
    {
     "data": {
      "text/plain": [
       "Pregnancies                   int64\n",
       "Glucose                       int64\n",
       "BloodPressure                 int64\n",
       "SkinThickness                 int64\n",
       "Insulin                       int64\n",
       "BMI                         float64\n",
       "DiabetesPedigreeFunction    float64\n",
       "Age                           int64\n",
       "dtype: object"
      ]
     },
     "execution_count": 8,
     "metadata": {},
     "output_type": "execute_result"
    }
   ],
   "source": [
    "#to show input variables dtype\n",
    "x_train.dtypes"
   ]
  },
  {
   "cell_type": "code",
   "execution_count": 9,
   "id": "041f6b10",
   "metadata": {},
   "outputs": [],
   "source": [
    "#now doing scaling to input variable so that at the time of training model..model will not do biasing between features\n",
    "#so that all the feature will have same variance range in it (finally if we check all the feature std will be 1 mean will be 0\n",
    "# and distribution will be normal)\n",
    "\n",
    "from sklearn.preprocessing import StandardScaler\n",
    "ss = StandardScaler()\n",
    "\n",
    "x_train = ss.fit_transform(x_train) #changing them into 2d numpy array object\n",
    "x_test = ss.transform(x_test)\n"
   ]
  },
  {
   "cell_type": "code",
   "execution_count": 10,
   "id": "cd43e575",
   "metadata": {},
   "outputs": [
    {
     "data": {
      "text/plain": [
       "((1600, 8), 2, dtype('float64'), (400, 8), 2, dtype('float64'))"
      ]
     },
     "execution_count": 10,
     "metadata": {},
     "output_type": "execute_result"
    }
   ],
   "source": [
    "x_train.shape,x_train.ndim,x_train.dtype,x_test.shape,x_test.ndim,x_test.dtype"
   ]
  },
  {
   "cell_type": "code",
   "execution_count": 11,
   "id": "3a29acfe",
   "metadata": {},
   "outputs": [
    {
     "data": {
      "text/plain": [
       "pandas.core.series.Series"
      ]
     },
     "execution_count": 11,
     "metadata": {},
     "output_type": "execute_result"
    }
   ],
   "source": [
    "type(y_train)"
   ]
  },
  {
   "cell_type": "code",
   "execution_count": 12,
   "id": "5341be90",
   "metadata": {},
   "outputs": [],
   "source": [
    "#now changing the y_train,y_test pandas object to 1d numpy array object\n",
    "y_train_np = np.array(y_train,dtype=np.float32)\n",
    "y_test_np = np.array(y_test,dtype=np.float32)"
   ]
  },
  {
   "cell_type": "code",
   "execution_count": 13,
   "id": "116bdcdd",
   "metadata": {},
   "outputs": [
    {
     "data": {
      "text/plain": [
       "((1600,), 1, numpy.ndarray, dtype('float32'))"
      ]
     },
     "execution_count": 13,
     "metadata": {},
     "output_type": "execute_result"
    }
   ],
   "source": [
    "y_train_np.shape,y_train_np.ndim,type(y_train_np),y_train_np.dtype"
   ]
  },
  {
   "cell_type": "markdown",
   "id": "76b195bb",
   "metadata": {},
   "source": [
    "# now changing all the numpy array train and testing set to tensor object"
   ]
  },
  {
   "cell_type": "code",
   "execution_count": 14,
   "id": "4501f077",
   "metadata": {},
   "outputs": [],
   "source": [
    "x_train_tensor = torch.from_numpy(x_train).float()\n",
    "x_test_tensor = torch.from_numpy(x_test).float()\n",
    "y_train_tensor = torch.from_numpy(y_train_np).float()\n",
    "y_test_tensor = torch.from_numpy(y_test_np).float()"
   ]
  },
  {
   "cell_type": "code",
   "execution_count": 15,
   "id": "198aa912",
   "metadata": {},
   "outputs": [
    {
     "data": {
      "text/plain": [
       "(torch.float32, torch.float32, torch.float32, torch.float32)"
      ]
     },
     "execution_count": 15,
     "metadata": {},
     "output_type": "execute_result"
    }
   ],
   "source": [
    "x_train_tensor.dtype,x_test_tensor.dtype,y_train_tensor.dtype,y_test_tensor.dtype"
   ]
  },
  {
   "cell_type": "markdown",
   "id": "91cbce60",
   "metadata": {},
   "source": [
    "# now creating custom dataset class so that training and testing data will get converted into batches"
   ]
  },
  {
   "cell_type": "code",
   "execution_count": 16,
   "id": "43781e5d",
   "metadata": {},
   "outputs": [],
   "source": [
    "#in this custom class we gonna used 3 special or magical methods \n",
    "class CustomDataset(Dataset): \n",
    "    #creating __init__ method to initialize instance variable \n",
    "    def __init__(self,input,output):\n",
    "        #inheriting all the property from parent class\n",
    "        super().__init__()\n",
    "        self.input = input\n",
    "        self.output = output\n",
    "        \n",
    "    #this magical method we used to return the totalnumber of records present in inputs object\n",
    "    def __len__(self):\n",
    "        return len(self.input)\n",
    "    \n",
    "    #below magical method we used to return randomly selected batch record corresponding to that label also\n",
    "    def __getitem__(self, index):\n",
    "        return self.input[index],self.output[index] \n",
    "        \n",
    "    \n",
    "        "
   ]
  },
  {
   "cell_type": "code",
   "execution_count": 17,
   "id": "2c93b1c9",
   "metadata": {},
   "outputs": [],
   "source": [
    "#creating an object of custom Dataset class\n",
    "train_dataset = CustomDataset(x_train_tensor,y_train_tensor)\n",
    "test_dataset = CustomDataset(x_test_tensor,y_test_tensor)"
   ]
  },
  {
   "cell_type": "code",
   "execution_count": 18,
   "id": "fd61a5c9",
   "metadata": {},
   "outputs": [],
   "source": [
    "#using dataloader class to create batch size of data corresponding to labels\n",
    "#creating an object dataloader class\n",
    "\n",
    "train_dataloader = DataLoader(train_dataset,batch_size=8,shuffle=True,pin_memory=True)\n",
    "test_dataloader = DataLoader(test_dataset,batch_size=8,shuffle=True,pin_memory=True)\n"
   ]
  },
  {
   "cell_type": "code",
   "execution_count": 19,
   "id": "78f1d4e6",
   "metadata": {},
   "outputs": [
    {
     "name": "stdout",
     "output_type": "stream",
     "text": [
      "tensor([[ 1.0337, -0.2254, -0.1867, -1.3029, -0.7217,  0.0710, -0.6690,  0.7373],\n",
      "        [-0.2010, -0.3195,  1.0869, -0.5493, -0.0186, -0.4729,  0.0812, -0.3541],\n",
      "        [-0.5097, -0.0373,  0.3440,  1.0205,  0.2248,  0.9240, -0.8051, -0.3541],\n",
      "        [ 0.7250,  0.1195,  0.4501,  0.6438, -0.7217, -0.5718,  0.3028,  1.3250],\n",
      "        [-0.8184, -0.5704,  0.5562, -0.6121,  0.0175, -1.5854,  0.0686, -0.9418],\n",
      "        [ 0.1077, -0.5704, -0.5051,  0.7694,  1.0091, -1.0168,  1.5722, -0.0183],\n",
      "        [ 1.0337,  0.6526,  1.0869,  0.2042,  3.6052, -0.2256, -1.0805,  0.8213],\n",
      "        [-0.2010,  0.2136,  0.1317,  0.2670,  0.9910,  0.0216,  0.2522, -0.5220]])\n",
      "tensor([1., 0., 0., 1., 0., 0., 1., 1.])\n"
     ]
    }
   ],
   "source": [
    "for feature,label in train_dataloader:\n",
    "    print(feature)\n",
    "    print(label)\n",
    "    break"
   ]
  },
  {
   "cell_type": "code",
   "execution_count": 20,
   "id": "c0bfbf6d",
   "metadata": {},
   "outputs": [
    {
     "data": {
      "text/plain": [
       "(2000, 8)"
      ]
     },
     "execution_count": 20,
     "metadata": {},
     "output_type": "execute_result"
    }
   ],
   "source": [
    "x.shape"
   ]
  },
  {
   "cell_type": "markdown",
   "id": "2a071ae8",
   "metadata": {},
   "source": [
    "# now initializing or defining the ANN "
   ]
  },
  {
   "cell_type": "code",
   "execution_count": 21,
   "id": "4c0c1add",
   "metadata": {},
   "outputs": [],
   "source": [
    "#we gonna used sequential container layer to intact the neurals layers init\n",
    "from torch.nn import Sequential\n",
    "\n",
    "\n",
    "#creating custom class to initalise the neural network in it..\n",
    "class MyNeuralNetwork(nn.Module):\n",
    "    #using constructor class to define the neural layers or instance variable init \n",
    "    def __init__(self,input_size):\n",
    "        #inheriting all the parent class constructor property\n",
    "        super().__init__()\n",
    "        \n",
    "        self.model = Sequential(\n",
    "            #hidden layer\n",
    "            nn.Linear(input_size,6),\n",
    "            nn.ReLU(),\n",
    "            \n",
    "            #2nd hidden layer\n",
    "            nn.Linear(6,4),\n",
    "            nn.ReLU(),\n",
    "            \n",
    "            #output layer\n",
    "            nn.Linear(4,1),\n",
    "            nn.Sigmoid()\n",
    "            \n",
    "        )\n",
    "        \n",
    "    #now creating another method to perform forward propogation algorithm\n",
    "    def forward(self,x):\n",
    "        return self.model(x)"
   ]
  },
  {
   "cell_type": "code",
   "execution_count": 22,
   "id": "1e3758d1",
   "metadata": {},
   "outputs": [
    {
     "data": {
      "text/plain": [
       "True"
      ]
     },
     "execution_count": 22,
     "metadata": {},
     "output_type": "execute_result"
    }
   ],
   "source": [
    "torch.cuda.is_available()"
   ]
  },
  {
   "cell_type": "code",
   "execution_count": 23,
   "id": "8b06b691",
   "metadata": {},
   "outputs": [
    {
     "data": {
      "text/plain": [
       "device(type='cuda')"
      ]
     },
     "execution_count": 23,
     "metadata": {},
     "output_type": "execute_result"
    }
   ],
   "source": [
    "#now using gpu power in my model to train\n",
    "device = torch.device(\"cuda\" if torch.cuda.is_available() else \"cpu\")\n",
    "device"
   ]
  },
  {
   "cell_type": "code",
   "execution_count": 24,
   "id": "a58c3a7d",
   "metadata": {},
   "outputs": [
    {
     "data": {
      "text/plain": [
       "MyNeuralNetwork(\n",
       "  (model): Sequential(\n",
       "    (0): Linear(in_features=8, out_features=6, bias=True)\n",
       "    (1): ReLU()\n",
       "    (2): Linear(in_features=6, out_features=4, bias=True)\n",
       "    (3): ReLU()\n",
       "    (4): Linear(in_features=4, out_features=1, bias=True)\n",
       "    (5): Sigmoid()\n",
       "  )\n",
       ")"
      ]
     },
     "execution_count": 24,
     "metadata": {},
     "output_type": "execute_result"
    }
   ],
   "source": [
    "#now creating an object of Custom neural network class\n",
    "model = MyNeuralNetwork(input_size=x_train_tensor.shape[1]).to(device=device)\n",
    "model"
   ]
  },
  {
   "cell_type": "code",
   "execution_count": 25,
   "id": "ecd73df3",
   "metadata": {},
   "outputs": [
    {
     "data": {
      "text/plain": [
       "=================================================================\n",
       "Layer (type:depth-idx)                   Param #\n",
       "=================================================================\n",
       "MyNeuralNetwork                          --\n",
       "├─Sequential: 1-1                        --\n",
       "│    └─Linear: 2-1                       54\n",
       "│    └─ReLU: 2-2                         --\n",
       "│    └─Linear: 2-3                       28\n",
       "│    └─ReLU: 2-4                         --\n",
       "│    └─Linear: 2-5                       5\n",
       "│    └─Sigmoid: 2-6                      --\n",
       "=================================================================\n",
       "Total params: 87\n",
       "Trainable params: 87\n",
       "Non-trainable params: 0\n",
       "================================================================="
      ]
     },
     "execution_count": 25,
     "metadata": {},
     "output_type": "execute_result"
    }
   ],
   "source": [
    "#if i want to see how many trainable parameter need to be trained by this model\n",
    "from torchinfo import summary\n",
    "summary(model)"
   ]
  },
  {
   "cell_type": "code",
   "execution_count": 26,
   "id": "53b4ec07",
   "metadata": {},
   "outputs": [],
   "source": [
    "#now defining loss function and optimizer\n",
    "#loss function will calculate loss value based on pblm statement we r working onit\n",
    "#optimizer will update trainable parameter in each layer\n",
    "\n",
    "optimizer = torch.optim.Adam(model.parameters(),lr=0.001)\n",
    "loss = torch.nn.BCELoss()"
   ]
  },
  {
   "cell_type": "code",
   "execution_count": 27,
   "id": "c47f0825",
   "metadata": {},
   "outputs": [],
   "source": [
    "epochs = 30 #total 30 iteration we r giving this to model"
   ]
  },
  {
   "cell_type": "code",
   "execution_count": 28,
   "id": "eb672e53",
   "metadata": {},
   "outputs": [
    {
     "name": "stdout",
     "output_type": "stream",
     "text": [
      "torch.Size([8, 8])\n",
      "2\n",
      "torch.Size([8])\n",
      "1\n"
     ]
    }
   ],
   "source": [
    "for train_batch_feature,train_batch_label in train_dataloader:\n",
    "    print(train_batch_feature.shape)\n",
    "    print(train_batch_feature.ndim)\n",
    "    print(train_batch_label.shape)\n",
    "    print(train_batch_label.ndim)\n",
    "    \n",
    "    break"
   ]
  },
  {
   "cell_type": "markdown",
   "id": "d13c979f",
   "metadata": {},
   "source": [
    "# Training steps we have to follow"
   ]
  },
  {
   "cell_type": "code",
   "execution_count": 29,
   "id": "7416ecba",
   "metadata": {},
   "outputs": [],
   "source": [
    "#iterating the loop\n",
    "for epoch in range(epochs):\n",
    "    #getting the batch_size training data and passing them to define neural network model\n",
    "    for train_batch_feature,train_batch_label in train_dataloader:\n",
    "        train_batch_feature = train_batch_feature.to(device)\n",
    "        train_batch_label = train_batch_label.to(device)\n",
    "        \n",
    "        #first algorithm that work is forward pass and we are getting prediction\n",
    "        y_pred = model.forward(train_batch_feature)\n",
    "        \n",
    "        #calculating loss value\n",
    "        losses = loss(y_pred.squeeze(),train_batch_label)\n",
    "        \n",
    "        #before applying backpropogation to the loss value first we have to clear the gradient inside optimizers\n",
    "        optimizer.zero_grad()\n",
    "        \n",
    "        #doing backpropogation to calculate gradients in each layer of trainable parameter\n",
    "        losses.backward()\n",
    "        \n",
    "        #updating wts and bias in each layer\n",
    "        optimizer.step()\n"
   ]
  },
  {
   "cell_type": "markdown",
   "id": "764ef71a",
   "metadata": {},
   "source": [
    "# now evaluating the model and checking the performance of model"
   ]
  },
  {
   "cell_type": "code",
   "execution_count": 30,
   "id": "4c0e0e83",
   "metadata": {},
   "outputs": [
    {
     "name": "stdout",
     "output_type": "stream",
     "text": [
      "\n",
      "✅ Test Accuracy: 78.75%\n"
     ]
    }
   ],
   "source": [
    "#defining variables \n",
    "#using total_samples_count and total_correct_predicting_model se we are getting accuracy of model\n",
    "total_samples_count = 0 #initializing zero initially\n",
    "total_correct_predicting_model_count = 0\n",
    "\n",
    "\n",
    "#now defining the list to store actual output and predicted output in it.\n",
    "all_actual_output = []\n",
    "all_predicted_output = []\n",
    "\n",
    "#now starting the evaluation of model\n",
    "model.eval()\n",
    "\n",
    "#now iterating testing dataloader samples and dont track the gradient init.\n",
    "with torch.no_grad():\n",
    "    for test_batch_feature,test_batch_label in test_dataloader:\n",
    "        test_batch_feature = test_batch_feature.to(device)\n",
    "        test_batch_label = test_batch_label.to(device)\n",
    "        \n",
    "        #now passing test feature batch to neural network architecture and rtn we r getting predicted_output probability!!\n",
    "        y_pred = model.forward(test_batch_feature)\n",
    "        \n",
    "        #test_loss_value\n",
    "        test_loss_value = loss(y_pred.squeeze(),test_batch_label)\n",
    "        \n",
    "        #changing predicted_output probability to binary class float() method we used to get \n",
    "        prediction = (y_pred.squeeze()>=0.5).float() \n",
    "        \n",
    "        #now checking in each batch mei how many are correct prediction comapre with actual output\n",
    "        total_correct_pred_per_batch = (prediction==test_batch_label).sum().item()\n",
    "        total_sample_in_each_batch = test_batch_label.shape[0]\n",
    "        #print(f\"num_correct_prediction_in_each_batch : {total_correct_pred_per_batch}, num_samples_in_each_batch: {total_sample_in_each_batch}\")\n",
    "        \n",
    "        #now updating counts variable\n",
    "        total_correct_predicting_model_count = total_correct_predicting_model_count+total_correct_pred_per_batch\n",
    "        total_samples_count = total_samples_count+total_sample_in_each_batch\n",
    "        \n",
    "        \n",
    "        #now appending or extending the lst objects\n",
    "        all_actual_output.extend(test_batch_label.cpu().numpy())\n",
    "        all_predicted_output.extend(prediction.cpu().numpy())\n",
    "        \n",
    "        \n",
    "# Calculate accuracy\n",
    "accuracy = total_correct_predicting_model_count / total_samples_count\n",
    "print(f\"\\n✅ Test Accuracy: {accuracy * 100:.2f}%\")\n"
   ]
  },
  {
   "cell_type": "code",
   "execution_count": 31,
   "id": "e2674c34",
   "metadata": {},
   "outputs": [
    {
     "name": "stdout",
     "output_type": "stream",
     "text": [
      "[[229  34]\n",
      " [ 51  86]]\n",
      "              precision    recall  f1-score   support\n",
      "\n",
      "         0.0       0.82      0.87      0.84       263\n",
      "         1.0       0.72      0.63      0.67       137\n",
      "\n",
      "    accuracy                           0.79       400\n",
      "   macro avg       0.77      0.75      0.76       400\n",
      "weighted avg       0.78      0.79      0.78       400\n",
      "\n"
     ]
    }
   ],
   "source": [
    "from sklearn.metrics import classification_report, confusion_matrix\n",
    "\n",
    "print(confusion_matrix(all_actual_output, all_predicted_output))\n",
    "print(classification_report(all_actual_output, all_predicted_output))"
   ]
  },
  {
   "cell_type": "code",
   "execution_count": 33,
   "id": "d3d2864d",
   "metadata": {},
   "outputs": [
    {
     "name": "stdout",
     "output_type": "stream",
     "text": [
      "Epoch [1/30], Train Loss: 0.4328, Test Loss: 0.4346, Test Accuracy: 79.50%\n",
      "Epoch [2/30], Train Loss: 0.4314, Test Loss: 0.4322, Test Accuracy: 78.50%\n",
      "Epoch [3/30], Train Loss: 0.4307, Test Loss: 0.4337, Test Accuracy: 78.75%\n",
      "Epoch [4/30], Train Loss: 0.4297, Test Loss: 0.4320, Test Accuracy: 79.00%\n",
      "Epoch [5/30], Train Loss: 0.4291, Test Loss: 0.4325, Test Accuracy: 79.25%\n",
      "Epoch [6/30], Train Loss: 0.4279, Test Loss: 0.4336, Test Accuracy: 78.75%\n",
      "Epoch [7/30], Train Loss: 0.4271, Test Loss: 0.4308, Test Accuracy: 79.00%\n",
      "Epoch [8/30], Train Loss: 0.4261, Test Loss: 0.4326, Test Accuracy: 78.50%\n",
      "Epoch [9/30], Train Loss: 0.4250, Test Loss: 0.4324, Test Accuracy: 78.75%\n",
      "Epoch [10/30], Train Loss: 0.4245, Test Loss: 0.4326, Test Accuracy: 79.50%\n",
      "Epoch [11/30], Train Loss: 0.4238, Test Loss: 0.4305, Test Accuracy: 79.25%\n",
      "Epoch [12/30], Train Loss: 0.4230, Test Loss: 0.4299, Test Accuracy: 79.00%\n",
      "Epoch [13/30], Train Loss: 0.4230, Test Loss: 0.4338, Test Accuracy: 79.25%\n",
      "Epoch [14/30], Train Loss: 0.4220, Test Loss: 0.4310, Test Accuracy: 80.00%\n",
      "Epoch [15/30], Train Loss: 0.4201, Test Loss: 0.4269, Test Accuracy: 79.75%\n",
      "Epoch [16/30], Train Loss: 0.4206, Test Loss: 0.4300, Test Accuracy: 80.25%\n",
      "Epoch [17/30], Train Loss: 0.4194, Test Loss: 0.4292, Test Accuracy: 80.50%\n",
      "Epoch [18/30], Train Loss: 0.4183, Test Loss: 0.4310, Test Accuracy: 79.75%\n",
      "Epoch [19/30], Train Loss: 0.4181, Test Loss: 0.4286, Test Accuracy: 79.00%\n",
      "Epoch [20/30], Train Loss: 0.4172, Test Loss: 0.4282, Test Accuracy: 79.25%\n",
      "Epoch [21/30], Train Loss: 0.4173, Test Loss: 0.4282, Test Accuracy: 79.50%\n",
      "Epoch [22/30], Train Loss: 0.4153, Test Loss: 0.4297, Test Accuracy: 79.25%\n",
      "Epoch [23/30], Train Loss: 0.4154, Test Loss: 0.4278, Test Accuracy: 79.75%\n",
      "Epoch [24/30], Train Loss: 0.4139, Test Loss: 0.4285, Test Accuracy: 80.25%\n",
      "Epoch [25/30], Train Loss: 0.4132, Test Loss: 0.4269, Test Accuracy: 79.00%\n",
      "Epoch [26/30], Train Loss: 0.4134, Test Loss: 0.4281, Test Accuracy: 79.75%\n",
      "Epoch [27/30], Train Loss: 0.4122, Test Loss: 0.4263, Test Accuracy: 79.25%\n",
      "Epoch [28/30], Train Loss: 0.4123, Test Loss: 0.4246, Test Accuracy: 79.50%\n",
      "Epoch [29/30], Train Loss: 0.4119, Test Loss: 0.4246, Test Accuracy: 79.75%\n",
      "Epoch [30/30], Train Loss: 0.4113, Test Loss: 0.4248, Test Accuracy: 79.00%\n"
     ]
    }
   ],
   "source": [
    "training_losses = []\n",
    "test_losses = []\n",
    "\n",
    "for epoch in range(epochs):\n",
    "    # ------- Training Phase -------\n",
    "    model.train()\n",
    "    training_running_loss = 0.0\n",
    "    \n",
    "    for train_batch_feature, train_batch_label in train_dataloader:\n",
    "        train_batch_feature = train_batch_feature.to(device)\n",
    "        train_batch_label = train_batch_label.to(device)\n",
    "\n",
    "        # Forward pass\n",
    "        y_pred = model(train_batch_feature)\n",
    "        losses = loss(y_pred.squeeze(), train_batch_label)\n",
    "\n",
    "        optimizer.zero_grad()\n",
    "        losses.backward()\n",
    "        optimizer.step()\n",
    "\n",
    "        training_running_loss += losses.item()\n",
    "    \n",
    "    avg_train_loss = training_running_loss / len(train_dataloader)\n",
    "    training_losses.append(avg_train_loss)\n",
    "\n",
    "    # ------- Testing Phase -------\n",
    "    model.eval()\n",
    "    test_running_loss = 0.0\n",
    "    total_samples_count = 0\n",
    "    total_correct_predicting_model_count = 0\n",
    "\n",
    "    with torch.no_grad():\n",
    "        for test_batch_feature, test_batch_label in test_dataloader:\n",
    "            test_batch_feature = test_batch_feature.to(device)\n",
    "            test_batch_label = test_batch_label.to(device)\n",
    "\n",
    "            y_pred = model(test_batch_feature)\n",
    "            test_loss_value = loss(y_pred.squeeze(), test_batch_label)\n",
    "            test_running_loss += test_loss_value.item()\n",
    "\n",
    "            prediction = (y_pred.squeeze() >= 0.5).float()\n",
    "            total_correct_predicting_model_count += (prediction == test_batch_label).sum().item()\n",
    "            total_samples_count += test_batch_label.size(0)\n",
    "\n",
    "    avg_test_loss = test_running_loss / len(test_dataloader)\n",
    "    test_losses.append(avg_test_loss)\n",
    "\n",
    "    accuracy = total_correct_predicting_model_count / total_samples_count\n",
    "\n",
    "    print(f\"Epoch [{epoch+1}/{epochs}], \"\n",
    "          f\"Train Loss: {avg_train_loss:.4f}, \"\n",
    "          f\"Test Loss: {avg_test_loss:.4f}, \"\n",
    "          f\"Test Accuracy: {accuracy * 100:.2f}%\")\n"
   ]
  },
  {
   "cell_type": "code",
   "execution_count": 34,
   "id": "701f0359",
   "metadata": {},
   "outputs": [],
   "source": [
    "import matplotlib.pyplot as plt"
   ]
  },
  {
   "cell_type": "code",
   "execution_count": 35,
   "id": "5aa5287e",
   "metadata": {},
   "outputs": [
    {
     "data": {
      "image/png": "[encoded data removed]",
      "text/plain": [
       "<Figure size 800x500 with 1 Axes>"
      ]
     },
     "metadata": {},
     "output_type": "display_data"
    }
   ],
   "source": [
    "plt.figure(figsize=(8,5))\n",
    "plt.plot(training_losses, label='Training Loss')\n",
    "plt.plot(test_losses, label='Test Loss')\n",
    "plt.xlabel('Epoch')\n",
    "plt.ylabel('Loss')\n",
    "plt.title('Training vs Test Loss')\n",
    "plt.legend()\n",
    "plt.show()"
   ]
  },
  {
   "cell_type": "code",
   "execution_count": null,
   "id": "8e48c3e6",
   "metadata": {},
   "outputs": [
    {
     "data": {
      "text/plain": [
       "[0.4479107603430748]"
      ]
     },
     "execution_count": 34,
     "metadata": {},
     "output_type": "execute_result"
    }
   ],
   "source": [
    "test_losses"
   ]
  }
 ],
 "metadata": {
  "kernelspec": {
   "display_name": "Python 3",
   "language": "python",
   "name": "python3"
  },
  "language_info": {
   "codemirror_mode": {
    "name": "ipython",
    "version": 3
   },
   "file_extension": ".py",
   "mimetype": "text/x-python",
   "name": "python",
   "nbconvert_exporter": "python",
   "pygments_lexer": "ipython3",
   "version": "3.10.18"
  }
 },
 "nbformat": 4,
 "nbformat_minor": 5
}
