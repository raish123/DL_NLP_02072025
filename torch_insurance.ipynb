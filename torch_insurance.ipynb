{
 "cells": [
  {
   "cell_type": "code",
   "execution_count": 1,
   "id": "6742d15d",
   "metadata": {},
   "outputs": [],
   "source": [
    "import torch\n",
    "import sklearn\n",
    "from sklearn.model_selection import train_test_split\n",
    "from sklearn.preprocessing import StandardScaler,LabelEncoder\n",
    "from sklearn.pipeline import Pipeline\n",
    "import torch.nn as nn\n",
    "from torch.utils.data import DataLoader,Dataset \n",
    "#above class we used to create custom dataset class which helping us to prepare batch_size data\n",
    "import pandas as pd\n",
    "import numpy as np"
   ]
  },
  {
   "cell_type": "code",
   "execution_count": 2,
   "id": "edfe8f80",
   "metadata": {},
   "outputs": [
    {
     "data": {
      "text/html": [
       "<div>\n",
       "<style scoped>\n",
       "    .dataframe tbody tr th:only-of-type {\n",
       "        vertical-align: middle;\n",
       "    }\n",
       "\n",
       "    .dataframe tbody tr th {\n",
       "        vertical-align: top;\n",
       "    }\n",
       "\n",
       "    .dataframe thead th {\n",
       "        text-align: right;\n",
       "    }\n",
       "</style>\n",
       "<table border=\"1\" class=\"dataframe\">\n",
       "  <thead>\n",
       "    <tr style=\"text-align: right;\">\n",
       "      <th></th>\n",
       "      <th>age</th>\n",
       "      <th>sex</th>\n",
       "      <th>bmi</th>\n",
       "      <th>children</th>\n",
       "      <th>smoker</th>\n",
       "      <th>region</th>\n",
       "      <th>charges</th>\n",
       "      <th>insuranceclaim</th>\n",
       "    </tr>\n",
       "  </thead>\n",
       "  <tbody>\n",
       "    <tr>\n",
       "      <th>0</th>\n",
       "      <td>19</td>\n",
       "      <td>0</td>\n",
       "      <td>27.900</td>\n",
       "      <td>0</td>\n",
       "      <td>1</td>\n",
       "      <td>3</td>\n",
       "      <td>16884.92400</td>\n",
       "      <td>1</td>\n",
       "    </tr>\n",
       "    <tr>\n",
       "      <th>1</th>\n",
       "      <td>18</td>\n",
       "      <td>1</td>\n",
       "      <td>33.770</td>\n",
       "      <td>1</td>\n",
       "      <td>0</td>\n",
       "      <td>2</td>\n",
       "      <td>1725.55230</td>\n",
       "      <td>1</td>\n",
       "    </tr>\n",
       "    <tr>\n",
       "      <th>2</th>\n",
       "      <td>28</td>\n",
       "      <td>1</td>\n",
       "      <td>33.000</td>\n",
       "      <td>3</td>\n",
       "      <td>0</td>\n",
       "      <td>2</td>\n",
       "      <td>4449.46200</td>\n",
       "      <td>0</td>\n",
       "    </tr>\n",
       "    <tr>\n",
       "      <th>3</th>\n",
       "      <td>33</td>\n",
       "      <td>1</td>\n",
       "      <td>22.705</td>\n",
       "      <td>0</td>\n",
       "      <td>0</td>\n",
       "      <td>1</td>\n",
       "      <td>21984.47061</td>\n",
       "      <td>0</td>\n",
       "    </tr>\n",
       "    <tr>\n",
       "      <th>4</th>\n",
       "      <td>32</td>\n",
       "      <td>1</td>\n",
       "      <td>28.880</td>\n",
       "      <td>0</td>\n",
       "      <td>0</td>\n",
       "      <td>1</td>\n",
       "      <td>3866.85520</td>\n",
       "      <td>1</td>\n",
       "    </tr>\n",
       "  </tbody>\n",
       "</table>\n",
       "</div>"
      ],
      "text/plain": [
       "   age  sex     bmi  children  smoker  region      charges  insuranceclaim\n",
       "0   19    0  27.900         0       1       3  16884.92400               1\n",
       "1   18    1  33.770         1       0       2   1725.55230               1\n",
       "2   28    1  33.000         3       0       2   4449.46200               0\n",
       "3   33    1  22.705         0       0       1  21984.47061               0\n",
       "4   32    1  28.880         0       0       1   3866.85520               1"
      ]
     },
     "execution_count": 2,
     "metadata": {},
     "output_type": "execute_result"
    }
   ],
   "source": [
    "#now loading the insurance data\n",
    "data = pd.read_csv('insurance.csv')\n",
    "data.head()"
   ]
  },
  {
   "cell_type": "code",
   "execution_count": 3,
   "id": "4b88f8f2",
   "metadata": {},
   "outputs": [],
   "source": [
    "#selecting input and output variable\n",
    "x = data.drop('insuranceclaim',axis=1)\n",
    "y = data['insuranceclaim']"
   ]
  },
  {
   "cell_type": "code",
   "execution_count": 4,
   "id": "5ac331de",
   "metadata": {},
   "outputs": [],
   "source": [
    "#splitting the data into training and testing set\n",
    "x_train,x_test,y_train,y_test = train_test_split(x,y,test_size=0.2,random_state=42)"
   ]
  },
  {
   "cell_type": "code",
   "execution_count": 5,
   "id": "e67c12a3",
   "metadata": {},
   "outputs": [
    {
     "data": {
      "text/plain": [
       "((1070, 7), (268, 7), (1070,), (268,))"
      ]
     },
     "execution_count": 5,
     "metadata": {},
     "output_type": "execute_result"
    }
   ],
   "source": [
    "#checking shape of training and testing set\n",
    "x_train.shape,x_test.shape,y_train.shape,y_test.shape"
   ]
  },
  {
   "cell_type": "code",
   "execution_count": 6,
   "id": "08c366cc",
   "metadata": {},
   "outputs": [
    {
     "data": {
      "text/plain": [
       "(age           int64\n",
       " sex           int64\n",
       " bmi         float64\n",
       " children      int64\n",
       " smoker        int64\n",
       " region        int64\n",
       " charges     float64\n",
       " dtype: object,\n",
       " age           int64\n",
       " sex           int64\n",
       " bmi         float64\n",
       " children      int64\n",
       " smoker        int64\n",
       " region        int64\n",
       " charges     float64\n",
       " dtype: object,\n",
       " dtype('int64'),\n",
       " dtype('int64'))"
      ]
     },
     "execution_count": 6,
     "metadata": {},
     "output_type": "execute_result"
    }
   ],
   "source": [
    "x_train.dtypes,x_test.dtypes,y_train.dtypes,y_test.dtypes"
   ]
  },
  {
   "cell_type": "code",
   "execution_count": 7,
   "id": "c8e73ac8",
   "metadata": {},
   "outputs": [],
   "source": [
    "#now doing input scaling by using standard scaler class\n",
    "#creating an object of standard scaler class\n",
    "ss = StandardScaler()\n",
    "\n",
    "x_train = ss.fit_transform(x_train) #change 2d pandas object to 2d numpy array object\n",
    "x_test = ss.transform(x_test)       #change 2d pandas object to 2d numpy array object"
   ]
  },
  {
   "cell_type": "code",
   "execution_count": 8,
   "id": "ddb01f1e",
   "metadata": {},
   "outputs": [
    {
     "data": {
      "text/plain": [
       "(numpy.ndarray, numpy.ndarray, 2, 2)"
      ]
     },
     "execution_count": 8,
     "metadata": {},
     "output_type": "execute_result"
    }
   ],
   "source": [
    "type(x_train),type(x_test),x_train.ndim,x_test.ndim"
   ]
  },
  {
   "cell_type": "code",
   "execution_count": 9,
   "id": "408bc57a",
   "metadata": {},
   "outputs": [],
   "source": [
    "#now changing output variable to numpy array object\n",
    "y_train_np = np.array(y_train,dtype=np.float32)\n",
    "y_test_np = np.array(y_test,dtype=np.float32)"
   ]
  },
  {
   "cell_type": "code",
   "execution_count": 10,
   "id": "fc5cc181",
   "metadata": {},
   "outputs": [
    {
     "data": {
      "text/plain": [
       "device(type='cuda')"
      ]
     },
     "execution_count": 10,
     "metadata": {},
     "output_type": "execute_result"
    }
   ],
   "source": [
    "device = torch.device(\"cuda\" if torch.cuda.is_available() else \"cpu\")\n",
    "device"
   ]
  },
  {
   "cell_type": "code",
   "execution_count": 11,
   "id": "86a0a7a8",
   "metadata": {},
   "outputs": [
    {
     "data": {
      "text/plain": [
       "'2.7.1+cu118'"
      ]
     },
     "execution_count": 11,
     "metadata": {},
     "output_type": "execute_result"
    }
   ],
   "source": [
    "torch.__version__"
   ]
  },
  {
   "cell_type": "markdown",
   "id": "9e85d1c2",
   "metadata": {},
   "source": [
    "# now changing the dtype to float-32 for training and testing set"
   ]
  },
  {
   "cell_type": "code",
   "execution_count": 12,
   "id": "729ed35a",
   "metadata": {},
   "outputs": [
    {
     "data": {
      "text/plain": [
       "(torch.Tensor, torch.float32)"
      ]
     },
     "execution_count": 12,
     "metadata": {},
     "output_type": "execute_result"
    }
   ],
   "source": [
    "x_train_tensor = torch.from_numpy(x_train).float()\n",
    "x_test_tensor = torch.from_numpy(x_test).float()\n",
    "\n",
    "y_train_tensor = torch.from_numpy(y_train_np)\n",
    "y_test_tensor = torch.from_numpy(y_test_np)\n",
    "type(y_test_tensor),y_test_tensor.dtype"
   ]
  },
  {
   "cell_type": "markdown",
   "id": "1ac9881c",
   "metadata": {},
   "source": [
    "# now creating custom dataset class which load the data and split the data based on batch_size "
   ]
  },
  {
   "cell_type": "code",
   "execution_count": 13,
   "id": "20013192",
   "metadata": {},
   "outputs": [],
   "source": [
    "class CustomDataset(Dataset): #inheriting the property method classes from parent class Dataset\n",
    "    #creating constructor method to initialize the instance variable in it.\n",
    "    def __init__(self,input_data,output_data):\n",
    "        \n",
    "        #calling the parent class constructor\n",
    "        super().__init__()\n",
    "        self.input_data = input_data\n",
    "        self.output_data = output_data\n",
    "        \n",
    "    #creating another magical method class to get the the size of input_data\n",
    "    def __len__(self):\n",
    "        return len(self.input_data)\n",
    "    \n",
    "    #creating another magical method class to get batch data based on index provided by user\n",
    "    def __getitem__(self, index):\n",
    "        return self.input_data[index],self.output_data[index]"
   ]
  },
  {
   "cell_type": "code",
   "execution_count": 14,
   "id": "7978f46c",
   "metadata": {},
   "outputs": [],
   "source": [
    "#now creating and object of training and testing dataset\n",
    "training_dataset = CustomDataset(x_train_tensor,y_train_tensor)\n",
    "testing_dataset  = CustomDataset(x_test_tensor,y_test_tensor)"
   ]
  },
  {
   "cell_type": "markdown",
   "id": "88d7c751",
   "metadata": {},
   "source": [
    "# now calling dataloader class"
   ]
  },
  {
   "cell_type": "code",
   "execution_count": 15,
   "id": "efe6c6f1",
   "metadata": {},
   "outputs": [],
   "source": [
    "#dataloader will load the data in batch size and also having availability to run on gpu\n",
    "training_dataloader_set = DataLoader(training_dataset,batch_size=8,shuffle=True,pin_memory=True)\n",
    "testing_dataloader_set = DataLoader(testing_dataset,batch_size=8,shuffle=True,pin_memory=True)"
   ]
  },
  {
   "cell_type": "code",
   "execution_count": 16,
   "id": "9c7adf28",
   "metadata": {},
   "outputs": [
    {
     "name": "stdout",
     "output_type": "stream",
     "text": [
      "tensor([[ 1.2542,  0.9760,  1.9153, -0.0884,  1.9656,  0.4410,  2.9407],\n",
      "        [ 0.1168,  0.9760,  1.0743,  0.7343, -0.5087, -0.4561, -0.5061],\n",
      "        [-0.1676,  0.9760,  0.6025, -0.0884,  1.9656, -1.3533,  2.1393],\n",
      "        [ 1.6096, -1.0246,  1.4303, -0.9112, -0.5087,  1.3382,  0.0104],\n",
      "        [ 0.5433, -1.0246, -0.4826,  0.7343,  1.9656, -0.4561,  0.9314],\n",
      "        [-0.3097, -1.0246, -0.7343, -0.9112, -0.5087, -1.3533, -0.6757],\n",
      "        [-1.0917,  0.9760,  0.0835, -0.9112,  1.9656, -1.3533,  1.7403],\n",
      "        [-0.2386,  0.9760, -0.3254,  1.5571, -0.5087, -0.4561, -0.5658]])\n",
      "tensor([1., 1., 1., 1., 1., 1., 1., 0.])\n"
     ]
    }
   ],
   "source": [
    "for feature,label in training_dataloader_set:\n",
    "    print(feature)\n",
    "    print(label)\n",
    "    break"
   ]
  },
  {
   "cell_type": "code",
   "execution_count": 17,
   "id": "e60d06c0",
   "metadata": {},
   "outputs": [
    {
     "data": {
      "text/plain": [
       "torch.Size([1070, 7])"
      ]
     },
     "execution_count": 17,
     "metadata": {},
     "output_type": "execute_result"
    }
   ],
   "source": [
    "x_train_tensor.shape"
   ]
  },
  {
   "cell_type": "markdown",
   "id": "bb651afd",
   "metadata": {},
   "source": [
    "# now defining the neural network architecture"
   ]
  },
  {
   "cell_type": "code",
   "execution_count": 18,
   "id": "ee0487d7",
   "metadata": {},
   "outputs": [],
   "source": [
    "from torch.nn import Sequential\n",
    "\n",
    "class MyNeuralNetwork(nn.Module):\n",
    "    #creating constructor method to initialize the neurons structure in it.\n",
    "    def __init__(self,input_feature_size):\n",
    "        #inheriting the constructor property from parent class\n",
    "        super().__init__()\n",
    "        \n",
    "        #now defining sequential model init.\n",
    "        self.model = Sequential(\n",
    "            \n",
    "            #defining the 1st hidden layer inputs\n",
    "            nn.Linear(input_feature_size,6),\n",
    "            nn.BatchNorm1d(6),\n",
    "            nn.ReLU(),\n",
    "            nn.Dropout(0.3),\n",
    "            \n",
    "            #defining the 2st hidden layer inputs\n",
    "            nn.Linear(6,4),\n",
    "            nn.BatchNorm1d(4),\n",
    "            nn.ReLU(),\n",
    "            nn.Dropout(0.3),\n",
    "            \n",
    "            #defining the output layer input\n",
    "            nn.Linear(4,1),\n",
    "            nn.Sigmoid()\n",
    "            \n",
    "        )\n",
    "        \n",
    "    #creating another method to perform forward pass calculation and passing input to neural structure\n",
    "    def forward(self,inputs):\n",
    "        return self.model(inputs)"
   ]
  },
  {
   "cell_type": "code",
   "execution_count": 19,
   "id": "1bb464a7",
   "metadata": {},
   "outputs": [
    {
     "data": {
      "text/plain": [
       "MyNeuralNetwork(\n",
       "  (model): Sequential(\n",
       "    (0): Linear(in_features=7, out_features=6, bias=True)\n",
       "    (1): BatchNorm1d(6, eps=1e-05, momentum=0.1, affine=True, track_running_stats=True)\n",
       "    (2): ReLU()\n",
       "    (3): Dropout(p=0.3, inplace=False)\n",
       "    (4): Linear(in_features=6, out_features=4, bias=True)\n",
       "    (5): BatchNorm1d(4, eps=1e-05, momentum=0.1, affine=True, track_running_stats=True)\n",
       "    (6): ReLU()\n",
       "    (7): Dropout(p=0.3, inplace=False)\n",
       "    (8): Linear(in_features=4, out_features=1, bias=True)\n",
       "    (9): Sigmoid()\n",
       "  )\n",
       ")"
      ]
     },
     "execution_count": 19,
     "metadata": {},
     "output_type": "execute_result"
    }
   ],
   "source": [
    "#creating an object of custom MyNeuralNetwork class\n",
    "in_feature = x_train_tensor.shape[1]\n",
    "model = MyNeuralNetwork(in_feature).to(device=device)\n",
    "model"
   ]
  },
  {
   "cell_type": "code",
   "execution_count": 20,
   "id": "dbca70f7",
   "metadata": {},
   "outputs": [
    {
     "data": {
      "text/plain": [
       "=================================================================\n",
       "Layer (type:depth-idx)                   Param #\n",
       "=================================================================\n",
       "MyNeuralNetwork                          --\n",
       "├─Sequential: 1-1                        --\n",
       "│    └─Linear: 2-1                       48\n",
       "│    └─BatchNorm1d: 2-2                  12\n",
       "│    └─ReLU: 2-3                         --\n",
       "│    └─Dropout: 2-4                      --\n",
       "│    └─Linear: 2-5                       28\n",
       "│    └─BatchNorm1d: 2-6                  8\n",
       "│    └─ReLU: 2-7                         --\n",
       "│    └─Dropout: 2-8                      --\n",
       "│    └─Linear: 2-9                       5\n",
       "│    └─Sigmoid: 2-10                     --\n",
       "=================================================================\n",
       "Total params: 101\n",
       "Trainable params: 101\n",
       "Non-trainable params: 0\n",
       "================================================================="
      ]
     },
     "execution_count": 20,
     "metadata": {},
     "output_type": "execute_result"
    }
   ],
   "source": [
    "#to show how many trainable parameter will be trained by this model\n",
    "from torchinfo import summary\n",
    "summary(model)"
   ]
  },
  {
   "cell_type": "code",
   "execution_count": 21,
   "id": "198efea8",
   "metadata": {},
   "outputs": [],
   "source": [
    "#now defining how many iteration/epochs want to give to this model\n",
    "#as well as defining optimizers will update the trainable in each layer\n",
    "\n",
    "epochs = 30\n",
    "optimizers = torch.optim.Adam(model.parameters(),lr=0.001,weight_decay=0.01)#here weight decay means l2 reqularization"
   ]
  },
  {
   "cell_type": "code",
   "execution_count": 22,
   "id": "fbd3b4e9",
   "metadata": {},
   "outputs": [],
   "source": [
    "#defining type of loss function using based on pblm statement\n",
    "loss = torch.nn.BCELoss()"
   ]
  },
  {
   "cell_type": "code",
   "execution_count": 23,
   "id": "17a28848",
   "metadata": {},
   "outputs": [
    {
     "name": "stdout",
     "output_type": "stream",
     "text": [
      "Epoch [1/30], Train Loss: 0.7710, Test Loss: 0.7426, Test Accuracy: 40.6716\n",
      "Epoch [2/30], Train Loss: 0.7276, Test Loss: 0.7129, Test Accuracy: 45.8955\n",
      "Epoch [3/30], Train Loss: 0.6946, Test Loss: 0.6798, Test Accuracy: 55.2239\n",
      "Epoch [4/30], Train Loss: 0.6621, Test Loss: 0.6372, Test Accuracy: 68.2836\n",
      "Epoch [5/30], Train Loss: 0.6433, Test Loss: 0.6214, Test Accuracy: 72.7612\n",
      "Epoch [6/30], Train Loss: 0.6217, Test Loss: 0.5848, Test Accuracy: 78.3582\n",
      "Epoch [7/30], Train Loss: 0.6063, Test Loss: 0.5486, Test Accuracy: 81.7164\n",
      "Epoch [8/30], Train Loss: 0.6013, Test Loss: 0.5333, Test Accuracy: 85.8209\n",
      "Epoch [9/30], Train Loss: 0.5457, Test Loss: 0.5105, Test Accuracy: 84.7015\n",
      "Epoch [10/30], Train Loss: 0.5394, Test Loss: 0.4779, Test Accuracy: 84.3284\n",
      "Epoch [11/30], Train Loss: 0.5273, Test Loss: 0.4816, Test Accuracy: 83.2090\n",
      "Epoch [12/30], Train Loss: 0.5281, Test Loss: 0.4659, Test Accuracy: 83.5821\n",
      "Epoch [13/30], Train Loss: 0.4847, Test Loss: 0.4183, Test Accuracy: 84.3284\n",
      "Epoch [14/30], Train Loss: 0.5069, Test Loss: 0.4408, Test Accuracy: 83.2090\n",
      "Epoch [15/30], Train Loss: 0.4673, Test Loss: 0.4043, Test Accuracy: 85.0746\n",
      "Epoch [16/30], Train Loss: 0.4933, Test Loss: 0.4118, Test Accuracy: 87.6866\n",
      "Epoch [17/30], Train Loss: 0.5050, Test Loss: 0.4106, Test Accuracy: 87.3134\n",
      "Epoch [18/30], Train Loss: 0.4629, Test Loss: 0.4118, Test Accuracy: 88.4328\n",
      "Epoch [19/30], Train Loss: 0.4969, Test Loss: 0.3908, Test Accuracy: 86.5672\n",
      "Epoch [20/30], Train Loss: 0.4867, Test Loss: 0.3855, Test Accuracy: 87.6866\n",
      "Epoch [21/30], Train Loss: 0.4689, Test Loss: 0.4064, Test Accuracy: 85.4478\n",
      "Epoch [22/30], Train Loss: 0.4544, Test Loss: 0.3963, Test Accuracy: 85.0746\n",
      "Epoch [23/30], Train Loss: 0.4723, Test Loss: 0.3981, Test Accuracy: 85.8209\n",
      "Epoch [24/30], Train Loss: 0.4677, Test Loss: 0.3762, Test Accuracy: 87.6866\n",
      "Epoch [25/30], Train Loss: 0.4796, Test Loss: 0.3918, Test Accuracy: 86.9403\n",
      "Epoch [26/30], Train Loss: 0.4452, Test Loss: 0.3689, Test Accuracy: 87.6866\n",
      "Epoch [27/30], Train Loss: 0.4617, Test Loss: 0.3804, Test Accuracy: 87.3134\n",
      "Epoch [28/30], Train Loss: 0.4575, Test Loss: 0.3941, Test Accuracy: 86.9403\n",
      "Epoch [29/30], Train Loss: 0.4451, Test Loss: 0.3904, Test Accuracy: 84.7015\n",
      "Epoch [30/30], Train Loss: 0.4936, Test Loss: 0.3685, Test Accuracy: 88.8060\n"
     ]
    }
   ],
   "source": [
    "#creating list of object that storing average training loss and testing loss variance in it\n",
    "avg_training_loss = []\n",
    "avg_testing_loss  = []\n",
    "for epoch in range(epochs):\n",
    "    \n",
    "    #initializing training loss count variable to zero\n",
    "    training_loss = 0\n",
    "    model.train()\n",
    "    #loading the data into batch size and passing them to neural netork architecutre\n",
    "    for train_feature,train_label in training_dataloader_set:\n",
    "        #now this train feature and label we gonna train through GPU\n",
    "        train_feature = train_feature.to(device)\n",
    "        train_label   = train_label.to(device)\n",
    "        \n",
    "        #first algorithm that work in neural network architecutre is forward propogation algorithm and genearte predicted output\n",
    "        y_pred = model.forward(train_feature)\n",
    "    \n",
    "        #now evaluating the training performance by calcculating the loss function\n",
    "        losses = loss(y_pred.squeeze(),train_label) #squeeze changing dimension so that it match the dimension of prediction output\n",
    "        \n",
    "        training_loss = training_loss+losses.item()\n",
    "        \n",
    "        #now ensuring optimizer will have no graident in it after each iteration \n",
    "        #bcoz if we dont make it zero gradient of previous epoch will get added in existing graident mei\n",
    "        optimizers.zero_grad()\n",
    "    \n",
    "        #reducing the loss value by doing backporopgation in which we r finding trainable parameter gradients in it.\n",
    "        losses.backward() #will calculate gradients of all trainable parameter\n",
    "        \n",
    "        #updating the trainiable parameter in each layers\n",
    "        optimizers.step()\n",
    "     \n",
    "    #calculating avgerage training loss in all iteration\n",
    "    avg_train_loss = training_loss/(len(training_dataloader_set))\n",
    "    avg_training_loss.append(avg_train_loss)   \n",
    "        \n",
    "    #initializing testing loss count variable to zero\n",
    "    #testing data pe we dont apply backpropogation and reqularization and dropout \n",
    "    testing_loss = 0\n",
    "    model.eval()\n",
    "    model_predicted_output_count_per_batch = 0\n",
    "    total_count_per_batch = 0\n",
    "    \n",
    "    #evaluation time we dont wan tto track the gradient\n",
    "    with torch.no_grad():\n",
    "        for test_feature,test_label in testing_dataloader_set:\n",
    "            #now this train feature and label we gonna train through GPU\n",
    "            test_feature = test_feature.to(device)\n",
    "            test_label   = test_label.to(device)\n",
    "            \n",
    "            #first algorithm that work in neural network architecutre is forward propogation algorithm and genearte predicted output\n",
    "            prediction_output = model.forward(test_feature)\n",
    "        \n",
    "            #now evaluating the training performance by calcculating the loss function\n",
    "            losses = loss(prediction_output.squeeze(),test_label) #squeeze changing dimension so that it match the dimension of prediction output\n",
    "            \n",
    "            testing_loss = testing_loss+losses.item()\n",
    "            \n",
    "            \n",
    "            #now checking how many true prediction done by model in each batch by comapring them with threshold value 0.5\n",
    "            result = (prediction_output.squeeze() >=0.5).float()\n",
    "            \n",
    "            #calculating numbers/count true prediction done by model\n",
    "            correct_predicted_by_model_per_batch = (result == test_label).sum().item()\n",
    "            \n",
    "            model_predicted_output_count_per_batch  = model_predicted_output_count_per_batch +correct_predicted_by_model_per_batch\n",
    "            \n",
    "            #total record count per batch\n",
    "            count_per_batch = test_label.shape[0]\n",
    "\n",
    "            #updating total count numbers\n",
    "            total_count_per_batch = total_count_per_batch+count_per_batch\n",
    "            \n",
    "    \n",
    "    #calculating avgerage training loss in all iteration\n",
    "    avg_test_loss = testing_loss/(len(testing_dataloader_set))\n",
    "    avg_testing_loss.append(avg_test_loss) \n",
    "    \n",
    "    accuracy = model_predicted_output_count_per_batch/total_count_per_batch * 100  \n",
    "        \n",
    "    \n",
    "    print(f\"Epoch [{epoch+1}/{epochs}], \"\n",
    "          f\"Train Loss: {avg_train_loss:.4f}, \"\n",
    "          f\"Test Loss: {avg_test_loss:.4f}, \"\n",
    "          f\"Test Accuracy: {accuracy:.4f}\")\n"
   ]
  },
  {
   "cell_type": "markdown",
   "id": "70134351",
   "metadata": {},
   "source": [
    "# to visualize training testing loss"
   ]
  },
  {
   "cell_type": "code",
   "execution_count": 24,
   "id": "4c362b93",
   "metadata": {},
   "outputs": [
    {
     "data": {
      "image/png": "[encoded data removed]",
      "text/plain": [
       "<Figure size 640x480 with 1 Axes>"
      ]
     },
     "metadata": {},
     "output_type": "display_data"
    }
   ],
   "source": [
    "import matplotlib.pyplot as plt\n",
    "plt.plot(avg_training_loss,label=\"Training_loss\")\n",
    "plt.plot(avg_testing_loss,label=\"Testing_loss\")\n",
    "plt.xlabel(\"epochs\")\n",
    "plt.ylabel(\"average losses per epochs\")\n",
    "plt.title('Training vs Test Loss')\n",
    "plt.legend()\n",
    "plt.show()\n",
    "\n"
   ]
  },
  {
   "cell_type": "code",
   "execution_count": 25,
   "id": "80363996",
   "metadata": {},
   "outputs": [
    {
     "name": "stdout",
     "output_type": "stream",
     "text": [
      "88.80597014925374\n"
     ]
    }
   ],
   "source": [
    "model.eval()\n",
    "all_actual_output = []\n",
    "all_predicted_ouput = []\n",
    "\n",
    "predicted_output_count_per_batch = 0\n",
    "total_count_per_batch = 0\n",
    "    \n",
    "#evaluation time we dont wan tto track the gradient\n",
    "with torch.no_grad():\n",
    "    for test_feature,test_label in testing_dataloader_set:\n",
    "        #now this train feature and label we gonna train through GPU\n",
    "        test_feature = test_feature.to(device)\n",
    "        test_label   = test_label.to(device)\n",
    "        \n",
    "        #first algorithm that work in neural network architecutre is forward propogation algorithm and genearte predicted output\n",
    "        prediction_output = model.forward(test_feature)\n",
    "        \n",
    "        #now checking how many true prediction done by model in each batch by comapring them with threshold value 0.5\n",
    "        result = (prediction_output.squeeze() >=0.5).float()\n",
    "        \n",
    "        correct_predicted_by_model_per_batch = (result == test_label).sum().item()\n",
    "        \n",
    "        predicted_output_count_per_batch  = predicted_output_count_per_batch +correct_predicted_by_model_per_batch\n",
    "        \n",
    "        #total record count per batch\n",
    "        count_per_batch = test_label.shape[0]\n",
    "\n",
    "        total_count_per_batch = total_count_per_batch+count_per_batch\n",
    "        \n",
    "        #Collecting all  Actual vs Predicted output \n",
    "        all_actual_output.extend(test_label.cpu().numpy())\n",
    "        all_predicted_ouput.extend(result.cpu().numpy())\n",
    "        \n",
    "    print(predicted_output_count_per_batch/total_count_per_batch * 100)"
   ]
  },
  {
   "cell_type": "code",
   "execution_count": null,
   "id": "8085a1c0",
   "metadata": {},
   "outputs": [],
   "source": []
  },
  {
   "cell_type": "markdown",
   "id": "4c07a2b5",
   "metadata": {},
   "source": [
    "# saving model based on best accuracy wrt to comparision"
   ]
  },
  {
   "cell_type": "code",
   "execution_count": null,
   "id": "d752f293",
   "metadata": {},
   "outputs": [],
   "source": []
  },
  {
   "cell_type": "code",
   "execution_count": null,
   "id": "6911fe65",
   "metadata": {},
   "outputs": [],
   "source": []
  },
  {
   "cell_type": "code",
   "execution_count": null,
   "id": "38d3f351",
   "metadata": {},
   "outputs": [],
   "source": []
  },
  {
   "cell_type": "code",
   "execution_count": null,
   "id": "358ad93d",
   "metadata": {},
   "outputs": [],
   "source": []
  },
  {
   "cell_type": "code",
   "execution_count": null,
   "id": "91ddd70a",
   "metadata": {},
   "outputs": [],
   "source": []
  }
 ],
 "metadata": {
  "kernelspec": {
   "display_name": "Python 3",
   "language": "python",
   "name": "python3"
  },
  "language_info": {
   "codemirror_mode": {
    "name": "ipython",
    "version": 3
   },
   "file_extension": ".py",
   "mimetype": "text/x-python",
   "name": "python",
   "nbconvert_exporter": "python",
   "pygments_lexer": "ipython3",
   "version": "3.10.18"
  }
 },
 "nbformat": 4,
 "nbformat_minor": 5
}
