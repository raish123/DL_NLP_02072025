{
 "cells": [
  {
   "cell_type": "code",
   "execution_count": 1,
   "id": "c8a93657",
   "metadata": {},
   "outputs": [],
   "source": [
    "#importing all the important library or module which is used in this project\n",
    "import pandas as pd\n",
    "import numpy as np\n",
    "import torch\n",
    "import torch.nn as nn\n",
    "from torch.utils.data import Dataset,DataLoader"
   ]
  },
  {
   "cell_type": "code",
   "execution_count": 2,
   "id": "912e1c67",
   "metadata": {},
   "outputs": [
    {
     "data": {
      "text/html": [
       "<div>\n",
       "<style scoped>\n",
       "    .dataframe tbody tr th:only-of-type {\n",
       "        vertical-align: middle;\n",
       "    }\n",
       "\n",
       "    .dataframe tbody tr th {\n",
       "        vertical-align: top;\n",
       "    }\n",
       "\n",
       "    .dataframe thead th {\n",
       "        text-align: right;\n",
       "    }\n",
       "</style>\n",
       "<table border=\"1\" class=\"dataframe\">\n",
       "  <thead>\n",
       "    <tr style=\"text-align: right;\">\n",
       "      <th></th>\n",
       "      <th>label</th>\n",
       "      <th>pixel1</th>\n",
       "      <th>pixel2</th>\n",
       "      <th>pixel3</th>\n",
       "      <th>pixel4</th>\n",
       "      <th>pixel5</th>\n",
       "      <th>pixel6</th>\n",
       "      <th>pixel7</th>\n",
       "      <th>pixel8</th>\n",
       "      <th>pixel9</th>\n",
       "      <th>...</th>\n",
       "      <th>pixel775</th>\n",
       "      <th>pixel776</th>\n",
       "      <th>pixel777</th>\n",
       "      <th>pixel778</th>\n",
       "      <th>pixel779</th>\n",
       "      <th>pixel780</th>\n",
       "      <th>pixel781</th>\n",
       "      <th>pixel782</th>\n",
       "      <th>pixel783</th>\n",
       "      <th>pixel784</th>\n",
       "    </tr>\n",
       "  </thead>\n",
       "  <tbody>\n",
       "    <tr>\n",
       "      <th>0</th>\n",
       "      <td>9</td>\n",
       "      <td>0</td>\n",
       "      <td>0</td>\n",
       "      <td>0</td>\n",
       "      <td>0</td>\n",
       "      <td>0</td>\n",
       "      <td>0</td>\n",
       "      <td>0</td>\n",
       "      <td>0</td>\n",
       "      <td>0</td>\n",
       "      <td>...</td>\n",
       "      <td>0</td>\n",
       "      <td>7</td>\n",
       "      <td>0</td>\n",
       "      <td>50</td>\n",
       "      <td>205</td>\n",
       "      <td>196</td>\n",
       "      <td>213</td>\n",
       "      <td>165</td>\n",
       "      <td>0</td>\n",
       "      <td>0</td>\n",
       "    </tr>\n",
       "    <tr>\n",
       "      <th>1</th>\n",
       "      <td>7</td>\n",
       "      <td>0</td>\n",
       "      <td>0</td>\n",
       "      <td>0</td>\n",
       "      <td>0</td>\n",
       "      <td>0</td>\n",
       "      <td>0</td>\n",
       "      <td>0</td>\n",
       "      <td>0</td>\n",
       "      <td>0</td>\n",
       "      <td>...</td>\n",
       "      <td>0</td>\n",
       "      <td>0</td>\n",
       "      <td>0</td>\n",
       "      <td>0</td>\n",
       "      <td>0</td>\n",
       "      <td>0</td>\n",
       "      <td>0</td>\n",
       "      <td>0</td>\n",
       "      <td>0</td>\n",
       "      <td>0</td>\n",
       "    </tr>\n",
       "    <tr>\n",
       "      <th>2</th>\n",
       "      <td>0</td>\n",
       "      <td>0</td>\n",
       "      <td>0</td>\n",
       "      <td>0</td>\n",
       "      <td>0</td>\n",
       "      <td>0</td>\n",
       "      <td>1</td>\n",
       "      <td>0</td>\n",
       "      <td>0</td>\n",
       "      <td>0</td>\n",
       "      <td>...</td>\n",
       "      <td>142</td>\n",
       "      <td>142</td>\n",
       "      <td>142</td>\n",
       "      <td>21</td>\n",
       "      <td>0</td>\n",
       "      <td>3</td>\n",
       "      <td>0</td>\n",
       "      <td>0</td>\n",
       "      <td>0</td>\n",
       "      <td>0</td>\n",
       "    </tr>\n",
       "    <tr>\n",
       "      <th>3</th>\n",
       "      <td>8</td>\n",
       "      <td>0</td>\n",
       "      <td>0</td>\n",
       "      <td>0</td>\n",
       "      <td>0</td>\n",
       "      <td>0</td>\n",
       "      <td>0</td>\n",
       "      <td>0</td>\n",
       "      <td>0</td>\n",
       "      <td>0</td>\n",
       "      <td>...</td>\n",
       "      <td>0</td>\n",
       "      <td>0</td>\n",
       "      <td>0</td>\n",
       "      <td>0</td>\n",
       "      <td>0</td>\n",
       "      <td>0</td>\n",
       "      <td>0</td>\n",
       "      <td>0</td>\n",
       "      <td>0</td>\n",
       "      <td>0</td>\n",
       "    </tr>\n",
       "    <tr>\n",
       "      <th>4</th>\n",
       "      <td>8</td>\n",
       "      <td>0</td>\n",
       "      <td>0</td>\n",
       "      <td>0</td>\n",
       "      <td>0</td>\n",
       "      <td>0</td>\n",
       "      <td>0</td>\n",
       "      <td>0</td>\n",
       "      <td>0</td>\n",
       "      <td>0</td>\n",
       "      <td>...</td>\n",
       "      <td>213</td>\n",
       "      <td>203</td>\n",
       "      <td>174</td>\n",
       "      <td>151</td>\n",
       "      <td>188</td>\n",
       "      <td>10</td>\n",
       "      <td>0</td>\n",
       "      <td>0</td>\n",
       "      <td>0</td>\n",
       "      <td>0</td>\n",
       "    </tr>\n",
       "  </tbody>\n",
       "</table>\n",
       "<p>5 rows × 785 columns</p>\n",
       "</div>"
      ],
      "text/plain": [
       "   label  pixel1  pixel2  pixel3  pixel4  pixel5  pixel6  pixel7  pixel8  \\\n",
       "0      9       0       0       0       0       0       0       0       0   \n",
       "1      7       0       0       0       0       0       0       0       0   \n",
       "2      0       0       0       0       0       0       1       0       0   \n",
       "3      8       0       0       0       0       0       0       0       0   \n",
       "4      8       0       0       0       0       0       0       0       0   \n",
       "\n",
       "   pixel9  ...  pixel775  pixel776  pixel777  pixel778  pixel779  pixel780  \\\n",
       "0       0  ...         0         7         0        50       205       196   \n",
       "1       0  ...         0         0         0         0         0         0   \n",
       "2       0  ...       142       142       142        21         0         3   \n",
       "3       0  ...         0         0         0         0         0         0   \n",
       "4       0  ...       213       203       174       151       188        10   \n",
       "\n",
       "   pixel781  pixel782  pixel783  pixel784  \n",
       "0       213       165         0         0  \n",
       "1         0         0         0         0  \n",
       "2         0         0         0         0  \n",
       "3         0         0         0         0  \n",
       "4         0         0         0         0  \n",
       "\n",
       "[5 rows x 785 columns]"
      ]
     },
     "execution_count": 2,
     "metadata": {},
     "output_type": "execute_result"
    }
   ],
   "source": [
    "#loading the fashion amnist dataset\n",
    "data = pd.read_csv('fmnist_small.csv')\n",
    "data.head()"
   ]
  },
  {
   "cell_type": "code",
   "execution_count": 3,
   "id": "cf0fcaed",
   "metadata": {},
   "outputs": [
    {
     "data": {
      "text/plain": [
       "label\n",
       "6    656\n",
       "7    620\n",
       "5    612\n",
       "2    604\n",
       "4    595\n",
       "0    595\n",
       "3    591\n",
       "1    590\n",
       "8    582\n",
       "9    555\n",
       "Name: count, dtype: int64"
      ]
     },
     "execution_count": 3,
     "metadata": {},
     "output_type": "execute_result"
    }
   ],
   "source": [
    "#if i want to see the target variable counts\n",
    "data.label.value_counts()  #this case come under the multi classifier category"
   ]
  },
  {
   "cell_type": "code",
   "execution_count": 4,
   "id": "3c3ce213",
   "metadata": {},
   "outputs": [],
   "source": [
    "#splitting the data into train tets split\n",
    "from sklearn.model_selection import train_test_split\n",
    "\n",
    "x = data.drop(\"label\",axis=1)\n",
    "y = data['label']"
   ]
  },
  {
   "cell_type": "code",
   "execution_count": 5,
   "id": "d0e49e58",
   "metadata": {},
   "outputs": [
    {
     "data": {
      "text/plain": [
       "device(type='cuda')"
      ]
     },
     "execution_count": 5,
     "metadata": {},
     "output_type": "execute_result"
    }
   ],
   "source": [
    "#checking gpu avilable in system or not\n",
    "device = torch.device(\"cuda\" if torch.cuda.is_available() else \"cpu\")\n",
    "device"
   ]
  },
  {
   "cell_type": "code",
   "execution_count": 6,
   "id": "d6662ca3",
   "metadata": {},
   "outputs": [],
   "source": [
    "#now splitting them into training and testing set\n",
    "x_train,x_test,y_train,y_test = train_test_split(x,y,test_size=0.2,random_state=42)"
   ]
  },
  {
   "cell_type": "code",
   "execution_count": 7,
   "id": "a8ae2d39",
   "metadata": {},
   "outputs": [
    {
     "data": {
      "text/plain": [
       "((4800, 784), (1200, 784), (4800,), (1200,), 2, 2, 1, 1)"
      ]
     },
     "execution_count": 7,
     "metadata": {},
     "output_type": "execute_result"
    }
   ],
   "source": [
    "x_train.shape,x_test.shape,y_train.shape,y_test.shape,x_train.ndim,x_test.ndim,y_train.ndim,y_test.ndim"
   ]
  },
  {
   "cell_type": "code",
   "execution_count": 8,
   "id": "a5366b90",
   "metadata": {},
   "outputs": [
    {
     "data": {
      "text/plain": [
       "(np.int64(0), np.int64(0))"
      ]
     },
     "execution_count": 8,
     "metadata": {},
     "output_type": "execute_result"
    }
   ],
   "source": [
    "x_train.pixel1.min(),x_train.pixel1.max()"
   ]
  },
  {
   "cell_type": "code",
   "execution_count": 9,
   "id": "93ceefee",
   "metadata": {},
   "outputs": [],
   "source": [
    "#now doing input scaling and applying min max scaling to inputs\n",
    "x_train = x_train/255.0\n",
    "x_test  = x_test/255.0"
   ]
  },
  {
   "cell_type": "code",
   "execution_count": 10,
   "id": "9b175488",
   "metadata": {},
   "outputs": [
    {
     "data": {
      "text/plain": [
       "(pandas.core.frame.DataFrame, dtype('float64'))"
      ]
     },
     "execution_count": 10,
     "metadata": {},
     "output_type": "execute_result"
    }
   ],
   "source": [
    "type(x_train),x_train.iloc[0].dtype"
   ]
  },
  {
   "cell_type": "code",
   "execution_count": 11,
   "id": "ae48fbef",
   "metadata": {},
   "outputs": [],
   "source": [
    "#changing training and testing dataset to numpy array object\n",
    "x_train_np = np.array(x_train)\n",
    "x_test_np =  np.array(x_test)\n",
    "y_train_np = np.array(y_train)\n",
    "y_test_np =  np.array(y_test)"
   ]
  },
  {
   "cell_type": "code",
   "execution_count": 12,
   "id": "b7feab19",
   "metadata": {},
   "outputs": [
    {
     "data": {
      "text/plain": [
       "(2,\n",
       " dtype('float64'),\n",
       " 2,\n",
       " dtype('float64'),\n",
       " 1,\n",
       " dtype('int64'),\n",
       " 1,\n",
       " dtype('int64'))"
      ]
     },
     "execution_count": 12,
     "metadata": {},
     "output_type": "execute_result"
    }
   ],
   "source": [
    "x_train_np.ndim,x_train_np.dtype,x_test_np.ndim,x_test_np.dtype,y_train_np.ndim,y_train_np.dtype,y_test_np.ndim,y_test_np.dtype"
   ]
  },
  {
   "cell_type": "markdown",
   "id": "d984bf55",
   "metadata": {},
   "source": [
    "# in case of multi classifier pblm statement inputs tensor dtype will be float32 and output varibale will be long"
   ]
  },
  {
   "cell_type": "code",
   "execution_count": 13,
   "id": "3d842eff",
   "metadata": {},
   "outputs": [],
   "source": [
    "#now converting pandas input and output df objects  to tensor object\n",
    "x_train_tensor = torch.tensor(x_train_np,dtype=torch.float32)\n",
    "x_test_tensor = torch.tensor(x_test_np,dtype=torch.float32)\n",
    "y_train_tensor = torch.tensor(y_train_np,dtype=torch.long)\n",
    "y_test_tensor = torch.tensor(y_test_np,dtype=torch.long)"
   ]
  },
  {
   "cell_type": "code",
   "execution_count": 14,
   "id": "cf9f9f69",
   "metadata": {},
   "outputs": [
    {
     "data": {
      "text/plain": [
       "(torch.float32, torch.float32, torch.int64, torch.int64)"
      ]
     },
     "execution_count": 14,
     "metadata": {},
     "output_type": "execute_result"
    }
   ],
   "source": [
    "x_train_tensor.dtype,x_test_tensor.dtype,y_train_tensor.dtype,y_test_tensor.dtype"
   ]
  },
  {
   "cell_type": "markdown",
   "id": "cbac8b8e",
   "metadata": {},
   "source": [
    "# using dataset class i am creating custom class that split data into batch size"
   ]
  },
  {
   "cell_type": "code",
   "execution_count": 15,
   "id": "150ecebb",
   "metadata": {},
   "outputs": [],
   "source": [
    "class CustomDataset(Dataset):\n",
    "    #creating constructor method in that we r initializing the instance variable in it.\n",
    "    def __init__(self,input_data,output_data):\n",
    "        #calling parent class property\n",
    "        super().__init__()\n",
    "        self.input_data = input_data\n",
    "        self.output_data = output_data\n",
    "        \n",
    "        \n",
    "    #using another magical method which show the shape of input data\n",
    "    def __len__(self):\n",
    "        return len(self.input_data)\n",
    "    \n",
    "    #using another magical method which divide data into batches based on index\n",
    "    def __getitem__(self, index):\n",
    "        return self.input_data[index],self.output_data[index]"
   ]
  },
  {
   "cell_type": "code",
   "execution_count": 16,
   "id": "3a161db1",
   "metadata": {},
   "outputs": [],
   "source": [
    "#now calling the customdatset class\n",
    "training_dataset = CustomDataset(x_train_tensor,y_train_tensor)\n",
    "testing_dataset  = CustomDataset(x_test_tensor,y_test_tensor)"
   ]
  },
  {
   "cell_type": "markdown",
   "id": "b4ce68a9",
   "metadata": {},
   "source": [
    "# now using dataloader class to convert dataset into batches"
   ]
  },
  {
   "cell_type": "code",
   "execution_count": 17,
   "id": "b6ad0d6f",
   "metadata": {},
   "outputs": [],
   "source": [
    "train_dataloader_set = DataLoader(training_dataset,batch_size=8,shuffle=True,pin_memory=True)\n",
    "test_dataloader_set = DataLoader(testing_dataset,batch_size=8,shuffle=True,pin_memory=True)"
   ]
  },
  {
   "cell_type": "code",
   "execution_count": 18,
   "id": "5790daa8",
   "metadata": {},
   "outputs": [
    {
     "name": "stdout",
     "output_type": "stream",
     "text": [
      "tensor([[0., 0., 0.,  ..., 0., 0., 0.],\n",
      "        [0., 0., 0.,  ..., 0., 0., 0.],\n",
      "        [0., 0., 0.,  ..., 0., 0., 0.],\n",
      "        ...,\n",
      "        [0., 0., 0.,  ..., 0., 0., 0.],\n",
      "        [0., 0., 0.,  ..., 0., 0., 0.],\n",
      "        [0., 0., 0.,  ..., 0., 0., 0.]])\n",
      "tensor([6, 2, 7, 0, 8, 9, 6, 9])\n"
     ]
    }
   ],
   "source": [
    "for feature,label in train_dataloader_set:\n",
    "    print(feature)\n",
    "    print(label)\n",
    "    break"
   ]
  },
  {
   "cell_type": "code",
   "execution_count": 19,
   "id": "2b757e8d",
   "metadata": {},
   "outputs": [
    {
     "data": {
      "text/plain": [
       "torch.Size([4800, 784])"
      ]
     },
     "execution_count": 19,
     "metadata": {},
     "output_type": "execute_result"
    }
   ],
   "source": [
    "x_train_tensor.shape"
   ]
  },
  {
   "cell_type": "code",
   "execution_count": 20,
   "id": "ef26c23c",
   "metadata": {},
   "outputs": [
    {
     "data": {
      "text/plain": [
       "10"
      ]
     },
     "execution_count": 20,
     "metadata": {},
     "output_type": "execute_result"
    }
   ],
   "source": [
    "data.label.nunique()"
   ]
  },
  {
   "cell_type": "markdown",
   "id": "0c323bab",
   "metadata": {},
   "source": [
    "# defining the Neural network fully connected layer"
   ]
  },
  {
   "cell_type": "code",
   "execution_count": 21,
   "id": "4599384a",
   "metadata": {},
   "outputs": [],
   "source": [
    "from torch.nn import Sequential\n",
    "\n",
    "class MyNeuralNetworkLayer(nn.Module):\n",
    "    \n",
    "    #using constructor method for defining the architecture of neural network !!!\n",
    "    def __init__(self,input_feature_shape):\n",
    "        #calling the parent class constructor inheriting the property from it.\n",
    "        super().__init__()\n",
    "        \n",
    "        self.model = Sequential(\n",
    "            \n",
    "            #defining the 1st hidden layer neurons\n",
    "            nn.Linear(input_feature_shape,512), #index=0\n",
    "            nn.BatchNorm1d(512),                #index=1\n",
    "            nn.ReLU(),\n",
    "            nn.Dropout(0.3),\n",
    "            \n",
    "            \n",
    "            #efining the 2nd hidden layer neurons\n",
    "            nn.Linear(512,256),\n",
    "            nn.BatchNorm1d(256),\n",
    "            nn.ReLU(),\n",
    "            nn.Dropout(0.3),\n",
    "            \n",
    "            #defining the 3rd hidden layer neurons\n",
    "            nn.Linear(256,64),\n",
    "            nn.BatchNorm1d(64),\n",
    "            nn.ReLU(),\n",
    "            nn.Dropout(0.3),\n",
    "            \n",
    "            #defining the output layer\n",
    "            nn.Linear(64,10)\n",
    "            #NOTE: No Softmax here → CrossEntropyLoss expects raw logits(value automatically they find probability of each class)\n",
    "         \n",
    "        )\n",
    "    \n",
    "    #creating another method to excute propogation class\n",
    "    def forward(self,input_feature):\n",
    "        return self.model(input_feature)"
   ]
  },
  {
   "cell_type": "code",
   "execution_count": 22,
   "id": "5895cd76",
   "metadata": {},
   "outputs": [
    {
     "data": {
      "text/plain": [
       "MyNeuralNetworkLayer(\n",
       "  (model): Sequential(\n",
       "    (0): Linear(in_features=784, out_features=512, bias=True)\n",
       "    (1): BatchNorm1d(512, eps=1e-05, momentum=0.1, affine=True, track_running_stats=True)\n",
       "    (2): ReLU()\n",
       "    (3): Dropout(p=0.3, inplace=False)\n",
       "    (4): Linear(in_features=512, out_features=256, bias=True)\n",
       "    (5): BatchNorm1d(256, eps=1e-05, momentum=0.1, affine=True, track_running_stats=True)\n",
       "    (6): ReLU()\n",
       "    (7): Dropout(p=0.3, inplace=False)\n",
       "    (8): Linear(in_features=256, out_features=64, bias=True)\n",
       "    (9): BatchNorm1d(64, eps=1e-05, momentum=0.1, affine=True, track_running_stats=True)\n",
       "    (10): ReLU()\n",
       "    (11): Dropout(p=0.3, inplace=False)\n",
       "    (12): Linear(in_features=64, out_features=10, bias=True)\n",
       "  )\n",
       ")"
      ]
     },
     "execution_count": 22,
     "metadata": {},
     "output_type": "execute_result"
    }
   ],
   "source": [
    "#creating an object of custom neural network class\n",
    "inp_shape = x_train_tensor.shape[1]\n",
    "model = MyNeuralNetworkLayer(inp_shape).to(device=device)\n",
    "model"
   ]
  },
  {
   "cell_type": "code",
   "execution_count": 23,
   "id": "ac56caa9",
   "metadata": {},
   "outputs": [
    {
     "data": {
      "text/plain": [
       "=================================================================\n",
       "Layer (type:depth-idx)                   Param #\n",
       "=================================================================\n",
       "MyNeuralNetworkLayer                     --\n",
       "├─Sequential: 1-1                        --\n",
       "│    └─Linear: 2-1                       401,920\n",
       "│    └─BatchNorm1d: 2-2                  1,024\n",
       "│    └─ReLU: 2-3                         --\n",
       "│    └─Dropout: 2-4                      --\n",
       "│    └─Linear: 2-5                       131,328\n",
       "│    └─BatchNorm1d: 2-6                  512\n",
       "│    └─ReLU: 2-7                         --\n",
       "│    └─Dropout: 2-8                      --\n",
       "│    └─Linear: 2-9                       16,448\n",
       "│    └─BatchNorm1d: 2-10                 128\n",
       "│    └─ReLU: 2-11                        --\n",
       "│    └─Dropout: 2-12                     --\n",
       "│    └─Linear: 2-13                      650\n",
       "=================================================================\n",
       "Total params: 552,010\n",
       "Trainable params: 552,010\n",
       "Non-trainable params: 0\n",
       "================================================================="
      ]
     },
     "execution_count": 23,
     "metadata": {},
     "output_type": "execute_result"
    }
   ],
   "source": [
    "#if i wan tto show how many no of trainable parameter trained by model\n",
    "from torchinfo import summary\n",
    "summary(model)"
   ]
  },
  {
   "cell_type": "code",
   "execution_count": 24,
   "id": "2af74aac",
   "metadata": {},
   "outputs": [],
   "source": [
    "#now defining how many no of iteration want to give at time of training,what will be loss function,optimers\n",
    "\n",
    "loss_fxn = nn.CrossEntropyLoss() #this loss fxn will be same as sparse categorical cross entropy\n",
    "optimizers = torch.optim.Adam(model.parameters(),lr=0.0001,weight_decay=0.01) \n",
    "#optimizer we used to update the trainable paramerter in each layer during Back Propgation time\n",
    "epochs=10"
   ]
  },
  {
   "cell_type": "code",
   "execution_count": 25,
   "id": "d1422678",
   "metadata": {},
   "outputs": [
    {
     "data": {
      "text/plain": [
       "Adam (\n",
       "Parameter Group 0\n",
       "    amsgrad: False\n",
       "    betas: (0.9, 0.999)\n",
       "    capturable: False\n",
       "    decoupled_weight_decay: False\n",
       "    differentiable: False\n",
       "    eps: 1e-08\n",
       "    foreach: None\n",
       "    fused: None\n",
       "    lr: 0.0001\n",
       "    maximize: False\n",
       "    weight_decay: 0.01\n",
       ")"
      ]
     },
     "execution_count": 25,
     "metadata": {},
     "output_type": "execute_result"
    }
   ],
   "source": [
    "optimizers"
   ]
  },
  {
   "cell_type": "code",
   "execution_count": 26,
   "id": "ec391f42",
   "metadata": {},
   "outputs": [
    {
     "name": "stdout",
     "output_type": "stream",
     "text": [
      "First Hidden Layer Weights (Before Training):\n",
      "Parameter containing:\n",
      "tensor([[ 0.0271, -0.0071, -0.0040,  ...,  0.0129, -0.0144,  0.0207],\n",
      "        [ 0.0140,  0.0227,  0.0017,  ...,  0.0035,  0.0179, -0.0064],\n",
      "        [-0.0345,  0.0214,  0.0244,  ..., -0.0094, -0.0069,  0.0234],\n",
      "        ...,\n",
      "        [ 0.0164,  0.0279, -0.0294,  ...,  0.0072,  0.0211, -0.0310],\n",
      "        [ 0.0260, -0.0078, -0.0230,  ..., -0.0297,  0.0195, -0.0353],\n",
      "        [ 0.0168,  0.0049,  0.0249,  ...,  0.0215, -0.0236,  0.0333]],\n",
      "       device='cuda:0', requires_grad=True)\n"
     ]
    }
   ],
   "source": [
    "print(\"First Hidden Layer Weights (Before Training):\")\n",
    "print(model.model[0].weight)"
   ]
  },
  {
   "cell_type": "code",
   "execution_count": 27,
   "id": "70c1df81",
   "metadata": {},
   "outputs": [
    {
     "name": "stdout",
     "output_type": "stream",
     "text": [
      "First Hidden Layer Bias (Before Training):\n",
      "Parameter containing:\n",
      "tensor([ 3.3911e-02,  2.0725e-02,  1.7302e-02,  5.1094e-03,  3.3677e-02,\n",
      "         2.0735e-02, -1.6800e-02, -2.5497e-02,  3.4659e-02, -1.3791e-02,\n",
      "         1.9636e-02,  1.4516e-02,  3.5280e-02, -2.4202e-02,  8.4557e-05,\n",
      "         4.4624e-03, -1.8843e-02,  3.2147e-04, -2.8055e-02,  3.3293e-03,\n",
      "         3.5492e-02, -2.3488e-02,  2.3243e-02,  2.7403e-02, -2.8101e-02,\n",
      "        -2.7987e-02, -6.0804e-03,  1.9627e-02,  3.2127e-02,  2.3716e-02,\n",
      "        -2.4373e-02,  1.2310e-02,  1.2037e-02, -1.9227e-02,  1.7759e-03,\n",
      "        -3.1030e-02, -1.3256e-03,  5.2897e-03,  2.9442e-02,  1.9674e-03,\n",
      "        -1.8112e-02, -9.9332e-03, -1.2363e-02,  2.1835e-02, -2.7482e-02,\n",
      "        -3.4528e-02,  1.6416e-02, -1.9818e-02, -8.9446e-03, -8.5720e-03,\n",
      "        -1.4880e-02,  5.1100e-03, -2.8110e-02, -2.6748e-02, -1.2635e-02,\n",
      "        -1.9693e-02, -1.5282e-03, -1.0389e-02, -8.5818e-03, -2.0200e-02,\n",
      "         2.8962e-02,  2.3448e-02,  2.3464e-02, -2.0666e-02, -7.0559e-03,\n",
      "         3.4694e-02, -2.6665e-02, -1.0234e-02, -1.4879e-02,  3.0817e-02,\n",
      "        -9.6675e-03,  3.3153e-02,  3.2045e-02, -1.7007e-02, -3.0411e-02,\n",
      "        -3.0735e-02, -3.9733e-03, -8.1666e-03, -1.7946e-02,  2.8197e-02,\n",
      "        -2.0248e-02, -1.1626e-02,  1.4915e-02,  2.6927e-02, -1.4453e-02,\n",
      "         2.3862e-02,  3.4474e-02,  6.4360e-03,  2.1848e-03, -1.1577e-03,\n",
      "        -1.1541e-02,  1.4850e-03,  1.3593e-02, -1.4637e-02, -7.4585e-03,\n",
      "        -2.4718e-02, -1.2973e-03,  2.9777e-02, -2.8871e-02, -3.4331e-02,\n",
      "        -2.7023e-04, -2.9509e-02, -2.9357e-02,  2.5463e-02, -2.1764e-02,\n",
      "        -2.9572e-02,  1.5107e-02,  1.1086e-02, -7.5651e-03, -1.5528e-02,\n",
      "         2.3197e-02, -9.9045e-03,  6.8718e-03,  2.2693e-02,  3.5057e-02,\n",
      "        -1.1892e-02, -1.5359e-02, -1.9419e-02, -1.3439e-02, -9.4524e-04,\n",
      "         2.5458e-02,  2.1404e-02, -7.8011e-03, -3.9698e-03,  2.3419e-02,\n",
      "        -2.9415e-02,  1.0363e-02,  3.3348e-02,  1.0094e-02, -1.5188e-02,\n",
      "         2.1582e-03,  1.2638e-02,  3.0593e-02,  1.4012e-02, -2.0038e-02,\n",
      "        -3.5001e-03, -2.3549e-02, -3.4259e-02,  2.7036e-02,  8.8067e-03,\n",
      "        -2.7937e-02, -2.6742e-02,  2.3175e-02,  2.0743e-03,  1.8863e-02,\n",
      "         1.1440e-02, -1.2139e-02, -2.1193e-02, -4.5753e-03,  2.6099e-02,\n",
      "        -3.5291e-02,  1.7531e-02, -2.0725e-02, -3.3853e-02, -1.5326e-02,\n",
      "         2.8180e-02, -1.9281e-02, -2.4650e-03, -8.9658e-03, -1.5835e-02,\n",
      "         1.8629e-03, -2.9985e-03,  1.2189e-02,  1.9065e-03, -1.6498e-02,\n",
      "         8.9489e-03,  3.4401e-02, -3.4106e-03, -3.5178e-02, -1.1419e-02,\n",
      "         2.7052e-02, -1.6926e-02,  9.3350e-03,  6.1208e-03,  2.6634e-02,\n",
      "        -7.2735e-03, -3.1494e-02,  1.2343e-02,  1.2363e-02,  8.9452e-03,\n",
      "        -1.5723e-02,  2.3998e-02,  1.6924e-02, -1.0919e-02,  1.7577e-02,\n",
      "        -3.2756e-02, -4.8202e-03,  1.7399e-02,  2.2205e-02,  2.2751e-02,\n",
      "        -2.2298e-03, -9.2207e-03, -2.2754e-02,  1.3626e-02, -3.6395e-03,\n",
      "         1.2045e-02, -1.8421e-02, -9.0255e-03, -3.1513e-02,  1.5418e-03,\n",
      "        -2.6690e-02,  2.0374e-02,  1.3714e-03,  1.9143e-02, -2.4200e-02,\n",
      "         2.9631e-02, -2.9010e-03,  1.5737e-02, -2.6483e-02, -3.5910e-03,\n",
      "        -7.9060e-03, -2.6516e-02,  2.5499e-03, -1.6426e-03, -3.4376e-02,\n",
      "         7.4056e-03,  9.3584e-03, -2.4460e-02,  1.4610e-02, -2.4669e-02,\n",
      "         1.9815e-02,  5.0716e-03,  1.2226e-02,  3.0344e-02,  1.8353e-02,\n",
      "         8.6006e-03, -2.0764e-02,  2.6885e-02,  3.0550e-02, -1.0235e-03,\n",
      "         1.2029e-02, -2.4048e-02, -1.0037e-02,  3.2921e-02, -3.1759e-02,\n",
      "        -5.6989e-03,  9.3856e-03, -3.3350e-02,  1.5009e-03, -2.3178e-02,\n",
      "        -4.1302e-03,  1.5893e-02, -3.0012e-02,  2.2708e-02, -2.1441e-02,\n",
      "        -1.0476e-02,  3.3178e-02, -3.1626e-02,  3.0492e-02, -1.1622e-02,\n",
      "        -2.4417e-02,  2.4633e-02,  7.1128e-03,  3.6206e-03, -1.6443e-02,\n",
      "        -3.0613e-02, -1.6042e-02,  1.5860e-02, -1.2620e-02,  1.5299e-02,\n",
      "        -2.2642e-02, -1.5465e-02, -2.0650e-02, -1.1602e-03,  4.3025e-03,\n",
      "         2.1245e-02,  2.3984e-02, -8.8346e-03,  1.7641e-02, -2.6803e-02,\n",
      "        -6.2297e-03, -1.0681e-02, -1.6513e-02,  4.3037e-03, -2.2109e-02,\n",
      "         7.4978e-03,  3.0665e-02, -2.3048e-02, -2.5106e-02, -3.4265e-03,\n",
      "         1.0125e-02,  1.6147e-03, -3.0271e-02,  7.5652e-03,  1.9717e-02,\n",
      "        -3.0797e-02, -2.9064e-02,  3.2623e-02,  1.8848e-02,  9.5384e-03,\n",
      "         1.6525e-02, -1.4250e-02, -8.3233e-03, -1.5365e-02, -2.9550e-02,\n",
      "        -1.7045e-02,  1.9251e-03, -1.8351e-03,  2.6310e-02,  2.2136e-03,\n",
      "        -3.4447e-02,  2.5612e-02,  3.1627e-02,  3.2336e-02,  2.3532e-02,\n",
      "         2.0410e-02,  1.9234e-02, -1.8080e-02,  1.3238e-03, -2.2302e-02,\n",
      "        -2.5047e-02, -3.3773e-02,  9.2497e-03, -2.4601e-02,  1.4583e-02,\n",
      "        -2.8208e-02,  1.8043e-02, -5.1501e-04,  3.4099e-02,  2.3674e-02,\n",
      "        -2.4459e-02,  1.7150e-02, -1.3671e-02, -2.6418e-02,  4.9883e-03,\n",
      "         2.9543e-02, -1.8905e-02, -3.4053e-02,  2.0824e-02, -3.2034e-02,\n",
      "        -2.5115e-02, -2.3234e-02, -1.8437e-02, -1.8012e-02, -9.3179e-03,\n",
      "         2.5993e-03,  2.4761e-02,  3.6967e-03, -3.1754e-02, -3.1396e-02,\n",
      "        -3.5220e-03,  2.0084e-02, -7.6398e-04,  2.8507e-03, -2.9298e-02,\n",
      "        -1.0039e-02,  1.2982e-02,  2.6559e-02, -2.8606e-03, -7.6523e-03,\n",
      "         8.6639e-03, -2.9133e-02,  1.3358e-02,  6.3234e-03, -6.9622e-03,\n",
      "         2.0361e-02,  3.0814e-02, -3.7603e-03, -2.2335e-02,  9.6290e-03,\n",
      "         2.6672e-02,  9.0563e-04,  1.3293e-02,  1.2034e-02,  1.4705e-02,\n",
      "        -6.0643e-03, -7.9124e-03,  1.8622e-02, -3.5294e-03,  1.3528e-02,\n",
      "        -3.2180e-02, -2.4992e-02, -1.2995e-02, -3.3232e-02, -1.2096e-02,\n",
      "         3.0596e-02,  1.7565e-02, -2.6539e-02, -7.9983e-03, -2.7323e-02,\n",
      "        -2.2683e-02,  1.7560e-02, -3.3906e-02,  9.3494e-03,  1.2758e-02,\n",
      "         3.1378e-02, -2.5185e-02, -1.3656e-02,  2.1016e-02, -3.5312e-02,\n",
      "        -3.1949e-02, -1.1253e-02, -2.5031e-02,  3.3598e-02, -1.3511e-02,\n",
      "         3.0821e-03, -3.3583e-03,  1.8220e-02, -1.5520e-02, -2.8060e-02,\n",
      "         3.1117e-02,  2.5069e-02, -2.8203e-02, -2.7874e-02,  3.2012e-02,\n",
      "         1.8437e-03,  1.3350e-02,  2.4098e-02,  3.0850e-02, -3.2468e-02,\n",
      "         2.6340e-03,  3.1527e-03,  2.1345e-02, -2.0499e-02, -3.3945e-02,\n",
      "         2.0808e-02,  3.1811e-02, -3.2498e-02, -1.5426e-02, -2.9189e-02,\n",
      "         1.6154e-02, -2.0232e-02,  3.0134e-02,  1.6821e-02,  3.5341e-02,\n",
      "         5.9472e-03, -1.3071e-02, -1.0046e-02, -1.8723e-03, -2.1920e-02,\n",
      "         3.3256e-02,  3.3903e-02, -3.0204e-02, -7.3302e-03,  1.4593e-02,\n",
      "        -3.6868e-03,  2.3873e-02,  1.0613e-02,  2.0268e-02,  3.3371e-02,\n",
      "        -6.8184e-03, -2.5800e-02, -3.1214e-02,  2.8690e-02,  3.3655e-02,\n",
      "         3.4669e-02,  1.2633e-02, -5.2095e-03,  2.9566e-02,  7.4910e-03,\n",
      "         2.2321e-03, -7.3271e-03, -3.2310e-02, -1.5785e-02, -2.0470e-02,\n",
      "         1.8703e-02, -1.7852e-02, -2.2331e-02,  2.6243e-02, -2.6167e-02,\n",
      "        -1.4462e-02,  2.7404e-02, -3.3875e-02, -1.0717e-02,  5.3039e-03,\n",
      "         1.1307e-02,  3.1275e-02,  2.4294e-02, -2.6833e-02, -1.9191e-02,\n",
      "        -1.4888e-02,  1.2962e-02,  1.8943e-02,  1.1410e-02,  2.8979e-02,\n",
      "         8.5950e-03,  2.5323e-02, -1.9937e-02,  2.3604e-03, -5.5238e-03,\n",
      "         4.5280e-03, -1.9108e-03,  3.0345e-02,  9.9647e-03, -1.7028e-02,\n",
      "         1.8036e-02, -2.9903e-02,  7.2561e-03, -1.4173e-02, -9.0236e-03,\n",
      "        -3.2861e-02, -3.3437e-03,  2.7440e-02, -1.9737e-02,  2.2107e-03,\n",
      "        -1.3673e-02,  8.4088e-03,  1.5030e-02, -1.9955e-02, -1.9226e-02,\n",
      "        -1.8360e-02,  1.1425e-02,  9.7062e-03, -2.1108e-02,  1.9355e-02,\n",
      "        -3.3913e-02,  1.2420e-02,  1.7961e-03, -1.5544e-02, -1.4698e-02,\n",
      "         4.2028e-03,  1.8685e-02], device='cuda:0', requires_grad=True)\n"
     ]
    }
   ],
   "source": [
    "print(\"First Hidden Layer Bias (Before Training):\")\n",
    "print(model.model[0].bias)"
   ]
  },
  {
   "cell_type": "code",
   "execution_count": 28,
   "id": "53fe5bd0",
   "metadata": {},
   "outputs": [
    {
     "name": "stdout",
     "output_type": "stream",
     "text": [
      "Second Hidden Layer Weights (Before Training):\n",
      "Parameter containing:\n",
      "tensor([[-0.0433,  0.0329, -0.0310,  ...,  0.0242, -0.0415,  0.0125],\n",
      "        [ 0.0218,  0.0034, -0.0213,  ..., -0.0008,  0.0246,  0.0236],\n",
      "        [ 0.0213,  0.0060,  0.0358,  ..., -0.0267, -0.0245,  0.0074],\n",
      "        ...,\n",
      "        [ 0.0019,  0.0061,  0.0198,  ..., -0.0307,  0.0228,  0.0339],\n",
      "        [ 0.0014,  0.0092, -0.0069,  ..., -0.0142, -0.0409,  0.0024],\n",
      "        [-0.0181, -0.0049,  0.0316,  ..., -0.0082,  0.0239, -0.0070]],\n",
      "       device='cuda:0', requires_grad=True)\n"
     ]
    }
   ],
   "source": [
    "print(\"Second Hidden Layer Weights (Before Training):\")\n",
    "print(model.model[4].weight)"
   ]
  },
  {
   "cell_type": "markdown",
   "id": "2abac47a",
   "metadata": {},
   "source": [
    "# now we will start the training of model"
   ]
  },
  {
   "cell_type": "code",
   "execution_count": 29,
   "id": "86a0aec9",
   "metadata": {},
   "outputs": [
    {
     "name": "stdout",
     "output_type": "stream",
     "text": [
      "Epoch [1/10], Train Loss: 1.6350, Test Loss: 1.1678\n",
      "Epoch [2/10], Train Loss: 1.2235, Test Loss: 0.9319\n",
      "Epoch [3/10], Train Loss: 1.0522, Test Loss: 0.8252\n",
      "Epoch [4/10], Train Loss: 0.9556, Test Loss: 0.7138\n",
      "Epoch [5/10], Train Loss: 0.8661, Test Loss: 0.6981\n",
      "Epoch [6/10], Train Loss: 0.8183, Test Loss: 0.6334\n",
      "Epoch [7/10], Train Loss: 0.7698, Test Loss: 0.6148\n",
      "Epoch [8/10], Train Loss: 0.7408, Test Loss: 0.5886\n",
      "Epoch [9/10], Train Loss: 0.7062, Test Loss: 0.5989\n",
      "Epoch [10/10], Train Loss: 0.6954, Test Loss: 0.5510\n"
     ]
    }
   ],
   "source": [
    "avg_training_loss,avg_testing_loss = [],[]\n",
    "for epoch in range(epochs):\n",
    "    model.train()\n",
    "    \n",
    "    training_loss_count = 0  # <- Reset for each epoch\n",
    "    \n",
    "    #first we load tha dataset and passing them into neural architecture \n",
    "    for train_feature,train_label in train_dataloader_set:\n",
    "        #now laoding the data into GPU\n",
    "        train_feature = train_feature.to(device)\n",
    "        train_label   = train_label.to(device)\n",
    "        \n",
    "        #now passing the training feature to neural netowrk architecture the first algorithm that work is forward pass.\n",
    "        #generate the prediction output\n",
    "        y_prediction = model.forward(train_feature)\n",
    "        \n",
    "        #evaluating the performance of model at time of training by calculating the loss value.\n",
    "        losses = loss_fxn(y_prediction,train_label)\n",
    "        \n",
    "        #updating the training_loss_count\n",
    "        training_loss_count = training_loss_count+losses.item()\n",
    "        \n",
    "        #clearing the gradient in optimizers object\n",
    "        optimizers.zero_grad() #before reducing the loss value by using backpropgation algorithm first of we have to clear the gradients which present in optimizers\n",
    "        \n",
    "        #now reducing the loss value by doing back propgation algorithm\n",
    "        losses.backward() #back propgation algorithm will calculate the gradients in each layer of trainaianble parameter wrt to losses\n",
    "        \n",
    "        #updating the trainable parameter by using optimizers\n",
    "        optimizers.step()\n",
    "    \n",
    "    #now calculating average training loss.\n",
    "    avg_train_loss = training_loss_count/len(train_dataloader_set)\n",
    "    avg_training_loss.append(avg_train_loss)\n",
    "    \n",
    "    \n",
    "    \n",
    "    #now validating the testing loss or testing data.\n",
    "    testing_loss_count = 0\n",
    "    \n",
    "    model.eval()\n",
    "    \n",
    "    #while testing the data we have to stop trcking the require gradient not applying overfitting and backpropogation in it.\n",
    "    with torch.no_grad():\n",
    "        for test_feature,test_label in test_dataloader_set:\n",
    "            #now loading the data into GPU\n",
    "            test_feature = test_feature.to(device)\n",
    "            test_label   = test_label.to(device)\n",
    "            \n",
    "            #now passing the test feature into neural network architecture and doing forward pass calculation.\n",
    "            prediction = model.forward(test_feature) #return each batch ke andar each record ke 10 probability\n",
    "            \n",
    "            #calculating the testing loss and updating the testing_loss_count\n",
    "            test_loss = loss_fxn(prediction,test_label)\n",
    "            \n",
    "            testing_loss_count = testing_loss_count+test_loss.item()\n",
    "    \n",
    "        #now calculating average training loss.\n",
    "        avg_test_loss = testing_loss_count/len(test_dataloader_set)\n",
    "        avg_testing_loss.append(avg_test_loss)\n",
    "        \n",
    "        \n",
    "        \n",
    "        print(f\"Epoch [{epoch+1}/{epochs}], \"\n",
    "          f\"Train Loss: {avg_train_loss:.4f}, \"\n",
    "          f\"Test Loss: {avg_test_loss:.4f}\")\n",
    "           "
   ]
  },
  {
   "cell_type": "code",
   "execution_count": null,
   "id": "c0e78445",
   "metadata": {},
   "outputs": [],
   "source": []
  },
  {
   "cell_type": "markdown",
   "id": "0fc8c88d",
   "metadata": {},
   "source": [
    "# to track train accuracy and test accuracy while training and evaluating the model"
   ]
  },
  {
   "cell_type": "code",
   "execution_count": null,
   "id": "580d590d",
   "metadata": {},
   "outputs": [
    {
     "name": "stdout",
     "output_type": "stream",
     "text": [
      "Epoch [1/10], Train Loss: 0.6885, Train Acc: 79.08% | Test Loss: 0.5779, Test Acc: 81.42%\n",
      "Epoch [2/10], Train Loss: 0.6715, Train Acc: 79.08% | Test Loss: 0.5574, Test Acc: 80.83%\n",
      "Epoch [3/10], Train Loss: 0.6500, Train Acc: 80.19% | Test Loss: 0.5291, Test Acc: 83.25%\n",
      "Epoch [4/10], Train Loss: 0.6259, Train Acc: 81.31% | Test Loss: 0.5259, Test Acc: 82.33%\n",
      "Epoch [5/10], Train Loss: 0.6195, Train Acc: 81.10% | Test Loss: 0.5251, Test Acc: 82.75%\n",
      "Epoch [6/10], Train Loss: 0.6113, Train Acc: 80.98% | Test Loss: 0.5488, Test Acc: 81.17%\n",
      "Epoch [7/10], Train Loss: 0.6031, Train Acc: 81.21% | Test Loss: 0.5409, Test Acc: 83.00%\n",
      "Epoch [8/10], Train Loss: 0.6117, Train Acc: 81.40% | Test Loss: 0.5131, Test Acc: 83.08%\n",
      "Epoch [9/10], Train Loss: 0.5908, Train Acc: 81.92% | Test Loss: 0.5329, Test Acc: 81.58%\n",
      "Epoch [10/10], Train Loss: 0.5706, Train Acc: 83.06% | Test Loss: 0.5110, Test Acc: 83.83%\n"
     ]
    }
   ],
   "source": [
    "avg_training_loss, avg_testing_loss = [], []\n",
    "training_accuracies, testing_accuracies = [], []\n",
    "\n",
    "for epoch in range(epochs):\n",
    "    # ---- TRAINING ----\n",
    "    model.train()\n",
    "    training_loss_count = 0\n",
    "    correct_train = 0\n",
    "    total_train = 0\n",
    "    \n",
    "    for train_feature, train_label in train_dataloader_set:\n",
    "        train_feature = train_feature.to(device)\n",
    "        train_label   = train_label.to(device)\n",
    "        \n",
    "        # Forward pass\n",
    "        y_prediction = model(train_feature)\n",
    "        \n",
    "        # Loss\n",
    "        losses = loss_fxn(y_prediction, train_label)\n",
    "        training_loss_count += losses.item()\n",
    "        \n",
    "        # Accuracy calculation (for multiclass)\n",
    "        _, predicted = torch.max(y_prediction, 1)  #_, predicted = torch.max(output, 1) → highest probability class index nikalta hai.\n",
    "        correct_train += (predicted == train_label).sum().item()\n",
    "        total_train   += train_label.size(0)\n",
    "        \n",
    "        # Backpropagation\n",
    "        optimizers.zero_grad()\n",
    "        losses.backward()\n",
    "        optimizers.step()\n",
    "    \n",
    "    avg_train_loss = training_loss_count / len(train_dataloader_set)\n",
    "    train_accuracy = (correct_train / total_train) * 100 #accuracy training calculation\n",
    "    avg_training_loss.append(avg_train_loss)\n",
    "    training_accuracies.append(train_accuracy)\n",
    "    \n",
    "    # ---- TESTING ----\n",
    "    model.eval()\n",
    "    testing_loss_count = 0\n",
    "    correct_test = 0\n",
    "    total_test = 0\n",
    "    \n",
    "    with torch.no_grad():\n",
    "        for test_feature, test_label in test_dataloader_set:\n",
    "            test_feature = test_feature.to(device)\n",
    "            test_label   = test_label.to(device)\n",
    "            \n",
    "            prediction = model(test_feature)\n",
    "            test_loss = loss_fxn(prediction, test_label)\n",
    "            testing_loss_count += test_loss.item()\n",
    "            \n",
    "            # Accuracy calculation\n",
    "            _, predicted = torch.max(prediction, 1)\n",
    "            correct_test += (predicted == test_label).sum().item()\n",
    "            total_test   += test_label.size(0)\n",
    "    \n",
    "    avg_test_loss = testing_loss_count / len(test_dataloader_set)\n",
    "    test_accuracy = (correct_test / total_test) * 100\n",
    "    avg_testing_loss.append(avg_test_loss)\n",
    "    testing_accuracies.append(test_accuracy)\n",
    "    \n",
    "    print(f\"Epoch [{epoch+1}/{epochs}], \"\n",
    "          f\"Train Loss: {avg_train_loss:.4f}, Train Acc: {train_accuracy:.2f}% \"\n",
    "          f\"| Test Loss: {avg_test_loss:.4f}, Test Acc: {test_accuracy:.2f}%\")\n"
   ]
  },
  {
   "cell_type": "code",
   "execution_count": null,
   "id": "9fbcad26",
   "metadata": {},
   "outputs": [],
   "source": []
  },
  {
   "cell_type": "code",
   "execution_count": null,
   "id": "b65b8334",
   "metadata": {},
   "outputs": [],
   "source": []
  },
  {
   "cell_type": "code",
   "execution_count": null,
   "id": "982524d8",
   "metadata": {},
   "outputs": [],
   "source": []
  },
  {
   "cell_type": "code",
   "execution_count": null,
   "id": "910f3732",
   "metadata": {},
   "outputs": [],
   "source": []
  },
  {
   "cell_type": "code",
   "execution_count": null,
   "id": "b183c43a",
   "metadata": {},
   "outputs": [],
   "source": []
  }
 ],
 "metadata": {
  "kernelspec": {
   "display_name": "Python 3",
   "language": "python",
   "name": "python3"
  },
  "language_info": {
   "codemirror_mode": {
    "name": "ipython",
    "version": 3
   },
   "file_extension": ".py",
   "mimetype": "text/x-python",
   "name": "python",
   "nbconvert_exporter": "python",
   "pygments_lexer": "ipython3",
   "version": "3.10.18"
  }
 },
 "nbformat": 4,
 "nbformat_minor": 5
}
